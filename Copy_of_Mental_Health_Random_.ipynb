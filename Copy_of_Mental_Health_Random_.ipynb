{
  "cells": [
    {
      "cell_type": "markdown",
      "metadata": {
        "id": "view-in-github",
        "colab_type": "text"
      },
      "source": [
        "<a href=\"https://colab.research.google.com/github/EMAL1234/Main_Project8/blob/main/Copy_of_Mental_Health_Random_.ipynb\" target=\"_parent\"><img src=\"https://colab.research.google.com/assets/colab-badge.svg\" alt=\"Open In Colab\"/></a>"
      ]
    },
    {
      "cell_type": "code",
      "execution_count": null,
      "metadata": {
        "id": "ywI9sSb8UT-c"
      },
      "outputs": [],
      "source": [
        "from google.colab import drive"
      ]
    },
    {
      "cell_type": "code",
      "execution_count": null,
      "metadata": {
        "colab": {
          "base_uri": "https://localhost:8080/"
        },
        "id": "-2k0Rc28Wvsr",
        "outputId": "b4012687-a024-4119-8745-5b216953ebbb"
      },
      "outputs": [
        {
          "output_type": "stream",
          "name": "stdout",
          "text": [
            "Mounted at /content/drive\n"
          ]
        }
      ],
      "source": [
        "drive.mount('/content/drive')"
      ]
    },
    {
      "cell_type": "code",
      "execution_count": null,
      "metadata": {
        "id": "i2O5Je0pW4Wa"
      },
      "outputs": [],
      "source": [
        "import pandas as pd\n",
        "import numpy as np\n",
        "import matplotlib.pyplot as plt\n",
        "import seaborn as sb\n",
        "import pickle"
      ]
    },
    {
      "cell_type": "code",
      "execution_count": null,
      "metadata": {
        "id": "tgcbPaIrW9dn"
      },
      "outputs": [],
      "source": [
        "path='/content/drive/MyDrive/survey.csv'\n",
        "data=pd.read_csv(path)\n",
        "data.head(5)\n",
        "data=data.drop('no_employees',axis=1)"
      ]
    },
    {
      "cell_type": "code",
      "execution_count": null,
      "metadata": {
        "colab": {
          "base_uri": "https://localhost:8080/",
          "height": 1000
        },
        "id": "Q88-dHOaFrOv",
        "outputId": "04230c8a-cbaf-4d17-f5f1-0a2b11f59173"
      },
      "outputs": [
        {
          "output_type": "execute_result",
          "data": {
            "text/plain": [
              "                Timestamp  Age  Gender        Country state self_employed  \\\n",
              "24    2014-08-27 11:36:48   33    male  United States    CA            No   \n",
              "25    2014-08-27 11:37:08   35    male  United States    TN            No   \n",
              "33    2014-08-27 11:39:36   42    Male  United States    WA            No   \n",
              "45    2014-08-27 11:43:36   38  Female  United States    TX            No   \n",
              "49    2014-08-27 11:44:43   30    male  United States    IL            No   \n",
              "...                   ...  ...     ...            ...   ...           ...   \n",
              "1186  2014-11-06 11:24:38   56  female  United States    OR           Yes   \n",
              "1190  2015-01-03 03:38:30   44       M  United States    OH            No   \n",
              "1219  2015-02-21 09:48:13   38    Male  United States    TX            No   \n",
              "1221  2015-02-21 10:45:51   46    male  United States    MD            No   \n",
              "1249  2015-07-22 18:57:54   30       M  United States    CA            No   \n",
              "\n",
              "     family_history treatment work_interfere remote_work  ...          leave  \\\n",
              "24              Yes       Yes         Rarely          No  ...     Don't know   \n",
              "25              Yes       Yes      Sometimes          No  ...      Very easy   \n",
              "33              Yes       Yes      Sometimes         Yes  ...      Very easy   \n",
              "45              Yes       Yes      Sometimes          No  ...  Somewhat easy   \n",
              "49              Yes       Yes         Rarely          No  ...     Don't know   \n",
              "...             ...       ...            ...         ...  ...            ...   \n",
              "1186             No        No         Rarely         Yes  ...     Don't know   \n",
              "1190            Yes       Yes      Sometimes          No  ...     Don't know   \n",
              "1219             No       Yes      Sometimes         Yes  ...      Very easy   \n",
              "1221            Yes       Yes      Sometimes         Yes  ...     Don't know   \n",
              "1249            Yes       Yes      Sometimes          No  ...      Very easy   \n",
              "\n",
              "     mental_health_consequence phys_health_consequence     coworkers  \\\n",
              "24                          No                      No           Yes   \n",
              "25                         Yes                      No  Some of them   \n",
              "33                       Maybe                      No  Some of them   \n",
              "45                          No                      No  Some of them   \n",
              "49                       Maybe                      No  Some of them   \n",
              "...                        ...                     ...           ...   \n",
              "1186                     Maybe                   Maybe            No   \n",
              "1190                     Maybe                      No  Some of them   \n",
              "1219                        No                      No           Yes   \n",
              "1221                        No                      No  Some of them   \n",
              "1249                        No                      No           Yes   \n",
              "\n",
              "        supervisor mental_health_interview phys_health_interview  \\\n",
              "24             Yes                      No                   Yes   \n",
              "25             Yes                      No                   Yes   \n",
              "33    Some of them                   Maybe                   Yes   \n",
              "45             Yes                      No                    No   \n",
              "49             Yes                      No                    No   \n",
              "...            ...                     ...                   ...   \n",
              "1186            No                      No                    No   \n",
              "1190  Some of them                      No                    No   \n",
              "1219           Yes                      No                    No   \n",
              "1221           Yes                     Yes                   Yes   \n",
              "1249           Yes                   Maybe                 Maybe   \n",
              "\n",
              "     mental_vs_physical obs_consequence  \\\n",
              "24           Don't know              No   \n",
              "25                   No              No   \n",
              "33           Don't know              No   \n",
              "45                  Yes              No   \n",
              "49           Don't know              No   \n",
              "...                 ...             ...   \n",
              "1186         Don't know              No   \n",
              "1190         Don't know              No   \n",
              "1219         Don't know              No   \n",
              "1221         Don't know              No   \n",
              "1249                Yes              No   \n",
              "\n",
              "                                               comments  \n",
              "24                  Relatively new job. Ask again later  \n",
              "25    Sometimes I think  about using drugs for my me...  \n",
              "33    I selected my current employer based on its po...  \n",
              "45    Our health plan has covered my psychotherapy a...  \n",
              "49    I just started a new job last week hence a lot...  \n",
              "...                                                 ...  \n",
              "1186  I'm self-employed on contract with small start...  \n",
              "1190  My mental health issues were the direct result...  \n",
              "1219  I openly discuss my mental health struggles. I...  \n",
              "1221  Just starting a new job hence the numerous I d...  \n",
              "1249                                  Bipolar disorder   \n",
              "\n",
              "[86 rows x 26 columns]"
            ],
            "text/html": [
              "\n",
              "  <div id=\"df-a3f21255-b90a-40cc-8d8d-b26b44e96768\">\n",
              "    <div class=\"colab-df-container\">\n",
              "      <div>\n",
              "<style scoped>\n",
              "    .dataframe tbody tr th:only-of-type {\n",
              "        vertical-align: middle;\n",
              "    }\n",
              "\n",
              "    .dataframe tbody tr th {\n",
              "        vertical-align: top;\n",
              "    }\n",
              "\n",
              "    .dataframe thead th {\n",
              "        text-align: right;\n",
              "    }\n",
              "</style>\n",
              "<table border=\"1\" class=\"dataframe\">\n",
              "  <thead>\n",
              "    <tr style=\"text-align: right;\">\n",
              "      <th></th>\n",
              "      <th>Timestamp</th>\n",
              "      <th>Age</th>\n",
              "      <th>Gender</th>\n",
              "      <th>Country</th>\n",
              "      <th>state</th>\n",
              "      <th>self_employed</th>\n",
              "      <th>family_history</th>\n",
              "      <th>treatment</th>\n",
              "      <th>work_interfere</th>\n",
              "      <th>remote_work</th>\n",
              "      <th>...</th>\n",
              "      <th>leave</th>\n",
              "      <th>mental_health_consequence</th>\n",
              "      <th>phys_health_consequence</th>\n",
              "      <th>coworkers</th>\n",
              "      <th>supervisor</th>\n",
              "      <th>mental_health_interview</th>\n",
              "      <th>phys_health_interview</th>\n",
              "      <th>mental_vs_physical</th>\n",
              "      <th>obs_consequence</th>\n",
              "      <th>comments</th>\n",
              "    </tr>\n",
              "  </thead>\n",
              "  <tbody>\n",
              "    <tr>\n",
              "      <th>24</th>\n",
              "      <td>2014-08-27 11:36:48</td>\n",
              "      <td>33</td>\n",
              "      <td>male</td>\n",
              "      <td>United States</td>\n",
              "      <td>CA</td>\n",
              "      <td>No</td>\n",
              "      <td>Yes</td>\n",
              "      <td>Yes</td>\n",
              "      <td>Rarely</td>\n",
              "      <td>No</td>\n",
              "      <td>...</td>\n",
              "      <td>Don't know</td>\n",
              "      <td>No</td>\n",
              "      <td>No</td>\n",
              "      <td>Yes</td>\n",
              "      <td>Yes</td>\n",
              "      <td>No</td>\n",
              "      <td>Yes</td>\n",
              "      <td>Don't know</td>\n",
              "      <td>No</td>\n",
              "      <td>Relatively new job. Ask again later</td>\n",
              "    </tr>\n",
              "    <tr>\n",
              "      <th>25</th>\n",
              "      <td>2014-08-27 11:37:08</td>\n",
              "      <td>35</td>\n",
              "      <td>male</td>\n",
              "      <td>United States</td>\n",
              "      <td>TN</td>\n",
              "      <td>No</td>\n",
              "      <td>Yes</td>\n",
              "      <td>Yes</td>\n",
              "      <td>Sometimes</td>\n",
              "      <td>No</td>\n",
              "      <td>...</td>\n",
              "      <td>Very easy</td>\n",
              "      <td>Yes</td>\n",
              "      <td>No</td>\n",
              "      <td>Some of them</td>\n",
              "      <td>Yes</td>\n",
              "      <td>No</td>\n",
              "      <td>Yes</td>\n",
              "      <td>No</td>\n",
              "      <td>No</td>\n",
              "      <td>Sometimes I think  about using drugs for my me...</td>\n",
              "    </tr>\n",
              "    <tr>\n",
              "      <th>33</th>\n",
              "      <td>2014-08-27 11:39:36</td>\n",
              "      <td>42</td>\n",
              "      <td>Male</td>\n",
              "      <td>United States</td>\n",
              "      <td>WA</td>\n",
              "      <td>No</td>\n",
              "      <td>Yes</td>\n",
              "      <td>Yes</td>\n",
              "      <td>Sometimes</td>\n",
              "      <td>Yes</td>\n",
              "      <td>...</td>\n",
              "      <td>Very easy</td>\n",
              "      <td>Maybe</td>\n",
              "      <td>No</td>\n",
              "      <td>Some of them</td>\n",
              "      <td>Some of them</td>\n",
              "      <td>Maybe</td>\n",
              "      <td>Yes</td>\n",
              "      <td>Don't know</td>\n",
              "      <td>No</td>\n",
              "      <td>I selected my current employer based on its po...</td>\n",
              "    </tr>\n",
              "    <tr>\n",
              "      <th>45</th>\n",
              "      <td>2014-08-27 11:43:36</td>\n",
              "      <td>38</td>\n",
              "      <td>Female</td>\n",
              "      <td>United States</td>\n",
              "      <td>TX</td>\n",
              "      <td>No</td>\n",
              "      <td>Yes</td>\n",
              "      <td>Yes</td>\n",
              "      <td>Sometimes</td>\n",
              "      <td>No</td>\n",
              "      <td>...</td>\n",
              "      <td>Somewhat easy</td>\n",
              "      <td>No</td>\n",
              "      <td>No</td>\n",
              "      <td>Some of them</td>\n",
              "      <td>Yes</td>\n",
              "      <td>No</td>\n",
              "      <td>No</td>\n",
              "      <td>Yes</td>\n",
              "      <td>No</td>\n",
              "      <td>Our health plan has covered my psychotherapy a...</td>\n",
              "    </tr>\n",
              "    <tr>\n",
              "      <th>49</th>\n",
              "      <td>2014-08-27 11:44:43</td>\n",
              "      <td>30</td>\n",
              "      <td>male</td>\n",
              "      <td>United States</td>\n",
              "      <td>IL</td>\n",
              "      <td>No</td>\n",
              "      <td>Yes</td>\n",
              "      <td>Yes</td>\n",
              "      <td>Rarely</td>\n",
              "      <td>No</td>\n",
              "      <td>...</td>\n",
              "      <td>Don't know</td>\n",
              "      <td>Maybe</td>\n",
              "      <td>No</td>\n",
              "      <td>Some of them</td>\n",
              "      <td>Yes</td>\n",
              "      <td>No</td>\n",
              "      <td>No</td>\n",
              "      <td>Don't know</td>\n",
              "      <td>No</td>\n",
              "      <td>I just started a new job last week hence a lot...</td>\n",
              "    </tr>\n",
              "    <tr>\n",
              "      <th>...</th>\n",
              "      <td>...</td>\n",
              "      <td>...</td>\n",
              "      <td>...</td>\n",
              "      <td>...</td>\n",
              "      <td>...</td>\n",
              "      <td>...</td>\n",
              "      <td>...</td>\n",
              "      <td>...</td>\n",
              "      <td>...</td>\n",
              "      <td>...</td>\n",
              "      <td>...</td>\n",
              "      <td>...</td>\n",
              "      <td>...</td>\n",
              "      <td>...</td>\n",
              "      <td>...</td>\n",
              "      <td>...</td>\n",
              "      <td>...</td>\n",
              "      <td>...</td>\n",
              "      <td>...</td>\n",
              "      <td>...</td>\n",
              "      <td>...</td>\n",
              "    </tr>\n",
              "    <tr>\n",
              "      <th>1186</th>\n",
              "      <td>2014-11-06 11:24:38</td>\n",
              "      <td>56</td>\n",
              "      <td>female</td>\n",
              "      <td>United States</td>\n",
              "      <td>OR</td>\n",
              "      <td>Yes</td>\n",
              "      <td>No</td>\n",
              "      <td>No</td>\n",
              "      <td>Rarely</td>\n",
              "      <td>Yes</td>\n",
              "      <td>...</td>\n",
              "      <td>Don't know</td>\n",
              "      <td>Maybe</td>\n",
              "      <td>Maybe</td>\n",
              "      <td>No</td>\n",
              "      <td>No</td>\n",
              "      <td>No</td>\n",
              "      <td>No</td>\n",
              "      <td>Don't know</td>\n",
              "      <td>No</td>\n",
              "      <td>I'm self-employed on contract with small start...</td>\n",
              "    </tr>\n",
              "    <tr>\n",
              "      <th>1190</th>\n",
              "      <td>2015-01-03 03:38:30</td>\n",
              "      <td>44</td>\n",
              "      <td>M</td>\n",
              "      <td>United States</td>\n",
              "      <td>OH</td>\n",
              "      <td>No</td>\n",
              "      <td>Yes</td>\n",
              "      <td>Yes</td>\n",
              "      <td>Sometimes</td>\n",
              "      <td>No</td>\n",
              "      <td>...</td>\n",
              "      <td>Don't know</td>\n",
              "      <td>Maybe</td>\n",
              "      <td>No</td>\n",
              "      <td>Some of them</td>\n",
              "      <td>Some of them</td>\n",
              "      <td>No</td>\n",
              "      <td>No</td>\n",
              "      <td>Don't know</td>\n",
              "      <td>No</td>\n",
              "      <td>My mental health issues were the direct result...</td>\n",
              "    </tr>\n",
              "    <tr>\n",
              "      <th>1219</th>\n",
              "      <td>2015-02-21 09:48:13</td>\n",
              "      <td>38</td>\n",
              "      <td>Male</td>\n",
              "      <td>United States</td>\n",
              "      <td>TX</td>\n",
              "      <td>No</td>\n",
              "      <td>No</td>\n",
              "      <td>Yes</td>\n",
              "      <td>Sometimes</td>\n",
              "      <td>Yes</td>\n",
              "      <td>...</td>\n",
              "      <td>Very easy</td>\n",
              "      <td>No</td>\n",
              "      <td>No</td>\n",
              "      <td>Yes</td>\n",
              "      <td>Yes</td>\n",
              "      <td>No</td>\n",
              "      <td>No</td>\n",
              "      <td>Don't know</td>\n",
              "      <td>No</td>\n",
              "      <td>I openly discuss my mental health struggles. I...</td>\n",
              "    </tr>\n",
              "    <tr>\n",
              "      <th>1221</th>\n",
              "      <td>2015-02-21 10:45:51</td>\n",
              "      <td>46</td>\n",
              "      <td>male</td>\n",
              "      <td>United States</td>\n",
              "      <td>MD</td>\n",
              "      <td>No</td>\n",
              "      <td>Yes</td>\n",
              "      <td>Yes</td>\n",
              "      <td>Sometimes</td>\n",
              "      <td>Yes</td>\n",
              "      <td>...</td>\n",
              "      <td>Don't know</td>\n",
              "      <td>No</td>\n",
              "      <td>No</td>\n",
              "      <td>Some of them</td>\n",
              "      <td>Yes</td>\n",
              "      <td>Yes</td>\n",
              "      <td>Yes</td>\n",
              "      <td>Don't know</td>\n",
              "      <td>No</td>\n",
              "      <td>Just starting a new job hence the numerous I d...</td>\n",
              "    </tr>\n",
              "    <tr>\n",
              "      <th>1249</th>\n",
              "      <td>2015-07-22 18:57:54</td>\n",
              "      <td>30</td>\n",
              "      <td>M</td>\n",
              "      <td>United States</td>\n",
              "      <td>CA</td>\n",
              "      <td>No</td>\n",
              "      <td>Yes</td>\n",
              "      <td>Yes</td>\n",
              "      <td>Sometimes</td>\n",
              "      <td>No</td>\n",
              "      <td>...</td>\n",
              "      <td>Very easy</td>\n",
              "      <td>No</td>\n",
              "      <td>No</td>\n",
              "      <td>Yes</td>\n",
              "      <td>Yes</td>\n",
              "      <td>Maybe</td>\n",
              "      <td>Maybe</td>\n",
              "      <td>Yes</td>\n",
              "      <td>No</td>\n",
              "      <td>Bipolar disorder</td>\n",
              "    </tr>\n",
              "  </tbody>\n",
              "</table>\n",
              "<p>86 rows × 26 columns</p>\n",
              "</div>\n",
              "      <button class=\"colab-df-convert\" onclick=\"convertToInteractive('df-a3f21255-b90a-40cc-8d8d-b26b44e96768')\"\n",
              "              title=\"Convert this dataframe to an interactive table.\"\n",
              "              style=\"display:none;\">\n",
              "        \n",
              "  <svg xmlns=\"http://www.w3.org/2000/svg\" height=\"24px\"viewBox=\"0 0 24 24\"\n",
              "       width=\"24px\">\n",
              "    <path d=\"M0 0h24v24H0V0z\" fill=\"none\"/>\n",
              "    <path d=\"M18.56 5.44l.94 2.06.94-2.06 2.06-.94-2.06-.94-.94-2.06-.94 2.06-2.06.94zm-11 1L8.5 8.5l.94-2.06 2.06-.94-2.06-.94L8.5 2.5l-.94 2.06-2.06.94zm10 10l.94 2.06.94-2.06 2.06-.94-2.06-.94-.94-2.06-.94 2.06-2.06.94z\"/><path d=\"M17.41 7.96l-1.37-1.37c-.4-.4-.92-.59-1.43-.59-.52 0-1.04.2-1.43.59L10.3 9.45l-7.72 7.72c-.78.78-.78 2.05 0 2.83L4 21.41c.39.39.9.59 1.41.59.51 0 1.02-.2 1.41-.59l7.78-7.78 2.81-2.81c.8-.78.8-2.07 0-2.86zM5.41 20L4 18.59l7.72-7.72 1.47 1.35L5.41 20z\"/>\n",
              "  </svg>\n",
              "      </button>\n",
              "      \n",
              "  <style>\n",
              "    .colab-df-container {\n",
              "      display:flex;\n",
              "      flex-wrap:wrap;\n",
              "      gap: 12px;\n",
              "    }\n",
              "\n",
              "    .colab-df-convert {\n",
              "      background-color: #E8F0FE;\n",
              "      border: none;\n",
              "      border-radius: 50%;\n",
              "      cursor: pointer;\n",
              "      display: none;\n",
              "      fill: #1967D2;\n",
              "      height: 32px;\n",
              "      padding: 0 0 0 0;\n",
              "      width: 32px;\n",
              "    }\n",
              "\n",
              "    .colab-df-convert:hover {\n",
              "      background-color: #E2EBFA;\n",
              "      box-shadow: 0px 1px 2px rgba(60, 64, 67, 0.3), 0px 1px 3px 1px rgba(60, 64, 67, 0.15);\n",
              "      fill: #174EA6;\n",
              "    }\n",
              "\n",
              "    [theme=dark] .colab-df-convert {\n",
              "      background-color: #3B4455;\n",
              "      fill: #D2E3FC;\n",
              "    }\n",
              "\n",
              "    [theme=dark] .colab-df-convert:hover {\n",
              "      background-color: #434B5C;\n",
              "      box-shadow: 0px 1px 3px 1px rgba(0, 0, 0, 0.15);\n",
              "      filter: drop-shadow(0px 1px 2px rgba(0, 0, 0, 0.3));\n",
              "      fill: #FFFFFF;\n",
              "    }\n",
              "  </style>\n",
              "\n",
              "      <script>\n",
              "        const buttonEl =\n",
              "          document.querySelector('#df-a3f21255-b90a-40cc-8d8d-b26b44e96768 button.colab-df-convert');\n",
              "        buttonEl.style.display =\n",
              "          google.colab.kernel.accessAllowed ? 'block' : 'none';\n",
              "\n",
              "        async function convertToInteractive(key) {\n",
              "          const element = document.querySelector('#df-a3f21255-b90a-40cc-8d8d-b26b44e96768');\n",
              "          const dataTable =\n",
              "            await google.colab.kernel.invokeFunction('convertToInteractive',\n",
              "                                                     [key], {});\n",
              "          if (!dataTable) return;\n",
              "\n",
              "          const docLinkHtml = 'Like what you see? Visit the ' +\n",
              "            '<a target=\"_blank\" href=https://colab.research.google.com/notebooks/data_table.ipynb>data table notebook</a>'\n",
              "            + ' to learn more about interactive tables.';\n",
              "          element.innerHTML = '';\n",
              "          dataTable['output_type'] = 'display_data';\n",
              "          await google.colab.output.renderOutput(dataTable, element);\n",
              "          const docLink = document.createElement('div');\n",
              "          docLink.innerHTML = docLinkHtml;\n",
              "          element.appendChild(docLink);\n",
              "        }\n",
              "      </script>\n",
              "    </div>\n",
              "  </div>\n",
              "  "
            ]
          },
          "metadata": {},
          "execution_count": 5
        }
      ],
      "source": [
        "data.dropna()\n"
      ]
    },
    {
      "cell_type": "code",
      "execution_count": null,
      "metadata": {
        "id": "Zw_D73jLFvD8"
      },
      "outputs": [],
      "source": [
        "data.drop(['Country','state','Timestamp','comments'],axis=1,inplace=True)"
      ]
    },
    {
      "cell_type": "code",
      "execution_count": null,
      "metadata": {
        "colab": {
          "base_uri": "https://localhost:8080/"
        },
        "id": "93UUZDGMG2KJ",
        "outputId": "4298109f-b16b-472b-f81a-86f11f542808"
      },
      "outputs": [
        {
          "output_type": "execute_result",
          "data": {
            "text/plain": [
              "Age                            0\n",
              "Gender                         0\n",
              "self_employed                 18\n",
              "family_history                 0\n",
              "treatment                      0\n",
              "work_interfere               264\n",
              "remote_work                    0\n",
              "tech_company                   0\n",
              "benefits                       0\n",
              "care_options                   0\n",
              "wellness_program               0\n",
              "seek_help                      0\n",
              "anonymity                      0\n",
              "leave                          0\n",
              "mental_health_consequence      0\n",
              "phys_health_consequence        0\n",
              "coworkers                      0\n",
              "supervisor                     0\n",
              "mental_health_interview        0\n",
              "phys_health_interview          0\n",
              "mental_vs_physical             0\n",
              "obs_consequence                0\n",
              "dtype: int64"
            ]
          },
          "metadata": {},
          "execution_count": 7
        }
      ],
      "source": [
        "data.isnull().sum()"
      ]
    },
    {
      "cell_type": "code",
      "execution_count": null,
      "metadata": {
        "colab": {
          "base_uri": "https://localhost:8080/"
        },
        "id": "bsdWtKaRhlFj",
        "outputId": "7f0485db-ebc2-49f9-ec98-d8e993f370f5"
      },
      "outputs": [
        {
          "output_type": "execute_result",
          "data": {
            "text/plain": [
              "No     1095\n",
              "Yes     146\n",
              "Name: self_employed, dtype: int64"
            ]
          },
          "metadata": {},
          "execution_count": 8
        }
      ],
      "source": [
        "data['self_employed'].value_counts()"
      ]
    },
    {
      "cell_type": "code",
      "execution_count": null,
      "metadata": {
        "id": "sFn5MbyAG-cs"
      },
      "outputs": [],
      "source": [
        "data['self_employed'].fillna('No',inplace=True)"
      ]
    },
    {
      "cell_type": "code",
      "execution_count": null,
      "metadata": {
        "colab": {
          "base_uri": "https://localhost:8080/"
        },
        "id": "_6E5BdYgeFvS",
        "outputId": "f2bd2fe4-8508-4868-a4ad-e64e3df7fa88"
      },
      "outputs": [
        {
          "output_type": "execute_result",
          "data": {
            "text/plain": [
              "Sometimes    465\n",
              "Never        213\n",
              "Rarely       173\n",
              "Often        144\n",
              "Name: work_interfere, dtype: int64"
            ]
          },
          "metadata": {},
          "execution_count": 10
        }
      ],
      "source": [
        "data['work_interfere'].value_counts()"
      ]
    },
    {
      "cell_type": "code",
      "execution_count": null,
      "metadata": {
        "colab": {
          "base_uri": "https://localhost:8080/",
          "height": 778
        },
        "id": "HB0NZy5-hyBE",
        "outputId": "9baef792-0d0c-4fb2-918e-bddb90ef46ce"
      },
      "outputs": [
        {
          "output_type": "execute_result",
          "data": {
            "text/plain": [
              "<Axes: >"
            ]
          },
          "metadata": {},
          "execution_count": 11
        },
        {
          "output_type": "display_data",
          "data": {
            "text/plain": [
              "<Figure size 1000x800 with 1 Axes>"
            ],
            "image/png": "[encoded data removed]"
          },
          "metadata": {}
        }
      ],
      "source": [
        "data['Age'].value_counts().plot(kind='bar',figsize=(10,8))"
      ]
    },
    {
      "cell_type": "code",
      "execution_count": null,
      "metadata": {
        "id": "StikOE2nHegN"
      },
      "outputs": [],
      "source": [
        "data['work_interfere'].fillna('N/A',inplace=True)"
      ]
    },
    {
      "cell_type": "code",
      "execution_count": null,
      "metadata": {
        "colab": {
          "base_uri": "https://localhost:8080/"
        },
        "id": "-iWuYu8ppsQU",
        "outputId": "a1adc4b0-74d3-49e8-9700-8a592fa295d7"
      },
      "outputs": [
        {
          "output_type": "stream",
          "name": "stdout",
          "text": [
            "<class 'pandas.core.frame.DataFrame'>\n",
            "RangeIndex: 1259 entries, 0 to 1258\n",
            "Data columns (total 22 columns):\n",
            " #   Column                     Non-Null Count  Dtype \n",
            "---  ------                     --------------  ----- \n",
            " 0   Age                        1259 non-null   int64 \n",
            " 1   Gender                     1259 non-null   object\n",
            " 2   self_employed              1259 non-null   object\n",
            " 3   family_history             1259 non-null   object\n",
            " 4   treatment                  1259 non-null   object\n",
            " 5   work_interfere             1259 non-null   object\n",
            " 6   remote_work                1259 non-null   object\n",
            " 7   tech_company               1259 non-null   object\n",
            " 8   benefits                   1259 non-null   object\n",
            " 9   care_options               1259 non-null   object\n",
            " 10  wellness_program           1259 non-null   object\n",
            " 11  seek_help                  1259 non-null   object\n",
            " 12  anonymity                  1259 non-null   object\n",
            " 13  leave                      1259 non-null   object\n",
            " 14  mental_health_consequence  1259 non-null   object\n",
            " 15  phys_health_consequence    1259 non-null   object\n",
            " 16  coworkers                  1259 non-null   object\n",
            " 17  supervisor                 1259 non-null   object\n",
            " 18  mental_health_interview    1259 non-null   object\n",
            " 19  phys_health_interview      1259 non-null   object\n",
            " 20  mental_vs_physical         1259 non-null   object\n",
            " 21  obs_consequence            1259 non-null   object\n",
            "dtypes: int64(1), object(21)\n",
            "memory usage: 216.5+ KB\n"
          ]
        }
      ],
      "source": [
        "data.info()"
      ]
    },
    {
      "cell_type": "code",
      "execution_count": null,
      "metadata": {
        "id": "2mvyTMuMHqvR"
      },
      "outputs": [],
      "source": [
        "data.drop(data[(data['Age']>60)| (data['Age']<18)].index,inplace=True)"
      ]
    },
    {
      "cell_type": "code",
      "execution_count": null,
      "metadata": {
        "id": "X-3_wtA1OTW2"
      },
      "outputs": [],
      "source": [
        "data['Gender'].replace(['Male','male','M','m','Male','Cis Male',\n",
        "'Man','cis male','Mail','Male-ish','Male(CIS)','Cis Man','msle','Malr','Mal','maile','Make',],'Male',inplace=True)\n",
        "\n",
        "data['Gender'].replace(['Female','female','F','f','Woman','Female',\n",
        "'femail','cis Female','cis-female/fenne','Femake','Female(cis)','woman',],'Female',inplace=True)\n",
        "\n",
        "data['Gender'].replace(['Female (trans)','queer/she/they','non-binary','fluid','queer','Trans-female',\n",
        "'femail','cis Female','cis-female/fenne','Femake','Female(cis)','woman',],'Non-Bianry',inplace=True)\n",
        " "
      ]
    },
    {
      "cell_type": "code",
      "execution_count": null,
      "metadata": {
        "colab": {
          "base_uri": "https://localhost:8080/",
          "height": 661
        },
        "id": "uNZB7fPnlAii",
        "outputId": "7fbdb6e2-48c7-485e-c9cb-a0dfac9b4700"
      },
      "outputs": [
        {
          "output_type": "execute_result",
          "data": {
            "text/plain": [
              "      Age  Gender self_employed family_history treatment work_interfere  \\\n",
              "0      37  Female            No             No       Yes          Often   \n",
              "1      44    Male            No             No        No         Rarely   \n",
              "2      32    Male            No             No        No         Rarely   \n",
              "3      31    Male            No            Yes       Yes          Often   \n",
              "4      31    Male            No             No        No          Never   \n",
              "...   ...     ...           ...            ...       ...            ...   \n",
              "1254   26    Male            No             No       Yes            N/A   \n",
              "1255   32    Male            No            Yes       Yes          Often   \n",
              "1256   34    Male            No            Yes       Yes      Sometimes   \n",
              "1257   46  Female            No             No        No            N/A   \n",
              "1258   25    Male            No            Yes       Yes      Sometimes   \n",
              "\n",
              "     remote_work tech_company    benefits care_options  ...   anonymity  \\\n",
              "0             No          Yes         Yes     Not sure  ...         Yes   \n",
              "1             No           No  Don't know           No  ...  Don't know   \n",
              "2             No          Yes          No           No  ...  Don't know   \n",
              "3             No          Yes          No          Yes  ...          No   \n",
              "4            Yes          Yes         Yes           No  ...  Don't know   \n",
              "...          ...          ...         ...          ...  ...         ...   \n",
              "1254          No          Yes          No           No  ...  Don't know   \n",
              "1255         Yes          Yes         Yes          Yes  ...         Yes   \n",
              "1256          No          Yes         Yes          Yes  ...  Don't know   \n",
              "1257         Yes          Yes          No          Yes  ...  Don't know   \n",
              "1258          No           No         Yes          Yes  ...         Yes   \n",
              "\n",
              "                   leave mental_health_consequence phys_health_consequence  \\\n",
              "0          Somewhat easy                        No                      No   \n",
              "1             Don't know                     Maybe                      No   \n",
              "2     Somewhat difficult                        No                      No   \n",
              "3     Somewhat difficult                       Yes                     Yes   \n",
              "4             Don't know                        No                      No   \n",
              "...                  ...                       ...                     ...   \n",
              "1254       Somewhat easy                        No                      No   \n",
              "1255  Somewhat difficult                        No                      No   \n",
              "1256  Somewhat difficult                       Yes                     Yes   \n",
              "1257          Don't know                       Yes                      No   \n",
              "1258          Don't know                     Maybe                      No   \n",
              "\n",
              "         coworkers    supervisor mental_health_interview  \\\n",
              "0     Some of them           Yes                      No   \n",
              "1               No            No                      No   \n",
              "2              Yes           Yes                     Yes   \n",
              "3     Some of them            No                   Maybe   \n",
              "4     Some of them           Yes                     Yes   \n",
              "...            ...           ...                     ...   \n",
              "1254  Some of them  Some of them                      No   \n",
              "1255  Some of them           Yes                      No   \n",
              "1256            No            No                      No   \n",
              "1257            No            No                      No   \n",
              "1258  Some of them            No                      No   \n",
              "\n",
              "     phys_health_interview mental_vs_physical obs_consequence  \n",
              "0                    Maybe                Yes              No  \n",
              "1                       No         Don't know              No  \n",
              "2                      Yes                 No              No  \n",
              "3                    Maybe                 No             Yes  \n",
              "4                      Yes         Don't know              No  \n",
              "...                    ...                ...             ...  \n",
              "1254                    No         Don't know              No  \n",
              "1255                    No                Yes              No  \n",
              "1256                    No                 No              No  \n",
              "1257                    No                 No              No  \n",
              "1258                    No         Don't know              No  \n",
              "\n",
              "[1247 rows x 22 columns]"
            ],
            "text/html": [
              "\n",
              "  <div id=\"df-0cd2ac47-3eaf-40e5-875e-c9b9822577fd\">\n",
              "    <div class=\"colab-df-container\">\n",
              "      <div>\n",
              "<style scoped>\n",
              "    .dataframe tbody tr th:only-of-type {\n",
              "        vertical-align: middle;\n",
              "    }\n",
              "\n",
              "    .dataframe tbody tr th {\n",
              "        vertical-align: top;\n",
              "    }\n",
              "\n",
              "    .dataframe thead th {\n",
              "        text-align: right;\n",
              "    }\n",
              "</style>\n",
              "<table border=\"1\" class=\"dataframe\">\n",
              "  <thead>\n",
              "    <tr style=\"text-align: right;\">\n",
              "      <th></th>\n",
              "      <th>Age</th>\n",
              "      <th>Gender</th>\n",
              "      <th>self_employed</th>\n",
              "      <th>family_history</th>\n",
              "      <th>treatment</th>\n",
              "      <th>work_interfere</th>\n",
              "      <th>remote_work</th>\n",
              "      <th>tech_company</th>\n",
              "      <th>benefits</th>\n",
              "      <th>care_options</th>\n",
              "      <th>...</th>\n",
              "      <th>anonymity</th>\n",
              "      <th>leave</th>\n",
              "      <th>mental_health_consequence</th>\n",
              "      <th>phys_health_consequence</th>\n",
              "      <th>coworkers</th>\n",
              "      <th>supervisor</th>\n",
              "      <th>mental_health_interview</th>\n",
              "      <th>phys_health_interview</th>\n",
              "      <th>mental_vs_physical</th>\n",
              "      <th>obs_consequence</th>\n",
              "    </tr>\n",
              "  </thead>\n",
              "  <tbody>\n",
              "    <tr>\n",
              "      <th>0</th>\n",
              "      <td>37</td>\n",
              "      <td>Female</td>\n",
              "      <td>No</td>\n",
              "      <td>No</td>\n",
              "      <td>Yes</td>\n",
              "      <td>Often</td>\n",
              "      <td>No</td>\n",
              "      <td>Yes</td>\n",
              "      <td>Yes</td>\n",
              "      <td>Not sure</td>\n",
              "      <td>...</td>\n",
              "      <td>Yes</td>\n",
              "      <td>Somewhat easy</td>\n",
              "      <td>No</td>\n",
              "      <td>No</td>\n",
              "      <td>Some of them</td>\n",
              "      <td>Yes</td>\n",
              "      <td>No</td>\n",
              "      <td>Maybe</td>\n",
              "      <td>Yes</td>\n",
              "      <td>No</td>\n",
              "    </tr>\n",
              "    <tr>\n",
              "      <th>1</th>\n",
              "      <td>44</td>\n",
              "      <td>Male</td>\n",
              "      <td>No</td>\n",
              "      <td>No</td>\n",
              "      <td>No</td>\n",
              "      <td>Rarely</td>\n",
              "      <td>No</td>\n",
              "      <td>No</td>\n",
              "      <td>Don't know</td>\n",
              "      <td>No</td>\n",
              "      <td>...</td>\n",
              "      <td>Don't know</td>\n",
              "      <td>Don't know</td>\n",
              "      <td>Maybe</td>\n",
              "      <td>No</td>\n",
              "      <td>No</td>\n",
              "      <td>No</td>\n",
              "      <td>No</td>\n",
              "      <td>No</td>\n",
              "      <td>Don't know</td>\n",
              "      <td>No</td>\n",
              "    </tr>\n",
              "    <tr>\n",
              "      <th>2</th>\n",
              "      <td>32</td>\n",
              "      <td>Male</td>\n",
              "      <td>No</td>\n",
              "      <td>No</td>\n",
              "      <td>No</td>\n",
              "      <td>Rarely</td>\n",
              "      <td>No</td>\n",
              "      <td>Yes</td>\n",
              "      <td>No</td>\n",
              "      <td>No</td>\n",
              "      <td>...</td>\n",
              "      <td>Don't know</td>\n",
              "      <td>Somewhat difficult</td>\n",
              "      <td>No</td>\n",
              "      <td>No</td>\n",
              "      <td>Yes</td>\n",
              "      <td>Yes</td>\n",
              "      <td>Yes</td>\n",
              "      <td>Yes</td>\n",
              "      <td>No</td>\n",
              "      <td>No</td>\n",
              "    </tr>\n",
              "    <tr>\n",
              "      <th>3</th>\n",
              "      <td>31</td>\n",
              "      <td>Male</td>\n",
              "      <td>No</td>\n",
              "      <td>Yes</td>\n",
              "      <td>Yes</td>\n",
              "      <td>Often</td>\n",
              "      <td>No</td>\n",
              "      <td>Yes</td>\n",
              "      <td>No</td>\n",
              "      <td>Yes</td>\n",
              "      <td>...</td>\n",
              "      <td>No</td>\n",
              "      <td>Somewhat difficult</td>\n",
              "      <td>Yes</td>\n",
              "      <td>Yes</td>\n",
              "      <td>Some of them</td>\n",
              "      <td>No</td>\n",
              "      <td>Maybe</td>\n",
              "      <td>Maybe</td>\n",
              "      <td>No</td>\n",
              "      <td>Yes</td>\n",
              "    </tr>\n",
              "    <tr>\n",
              "      <th>4</th>\n",
              "      <td>31</td>\n",
              "      <td>Male</td>\n",
              "      <td>No</td>\n",
              "      <td>No</td>\n",
              "      <td>No</td>\n",
              "      <td>Never</td>\n",
              "      <td>Yes</td>\n",
              "      <td>Yes</td>\n",
              "      <td>Yes</td>\n",
              "      <td>No</td>\n",
              "      <td>...</td>\n",
              "      <td>Don't know</td>\n",
              "      <td>Don't know</td>\n",
              "      <td>No</td>\n",
              "      <td>No</td>\n",
              "      <td>Some of them</td>\n",
              "      <td>Yes</td>\n",
              "      <td>Yes</td>\n",
              "      <td>Yes</td>\n",
              "      <td>Don't know</td>\n",
              "      <td>No</td>\n",
              "    </tr>\n",
              "    <tr>\n",
              "      <th>...</th>\n",
              "      <td>...</td>\n",
              "      <td>...</td>\n",
              "      <td>...</td>\n",
              "      <td>...</td>\n",
              "      <td>...</td>\n",
              "      <td>...</td>\n",
              "      <td>...</td>\n",
              "      <td>...</td>\n",
              "      <td>...</td>\n",
              "      <td>...</td>\n",
              "      <td>...</td>\n",
              "      <td>...</td>\n",
              "      <td>...</td>\n",
              "      <td>...</td>\n",
              "      <td>...</td>\n",
              "      <td>...</td>\n",
              "      <td>...</td>\n",
              "      <td>...</td>\n",
              "      <td>...</td>\n",
              "      <td>...</td>\n",
              "      <td>...</td>\n",
              "    </tr>\n",
              "    <tr>\n",
              "      <th>1254</th>\n",
              "      <td>26</td>\n",
              "      <td>Male</td>\n",
              "      <td>No</td>\n",
              "      <td>No</td>\n",
              "      <td>Yes</td>\n",
              "      <td>N/A</td>\n",
              "      <td>No</td>\n",
              "      <td>Yes</td>\n",
              "      <td>No</td>\n",
              "      <td>No</td>\n",
              "      <td>...</td>\n",
              "      <td>Don't know</td>\n",
              "      <td>Somewhat easy</td>\n",
              "      <td>No</td>\n",
              "      <td>No</td>\n",
              "      <td>Some of them</td>\n",
              "      <td>Some of them</td>\n",
              "      <td>No</td>\n",
              "      <td>No</td>\n",
              "      <td>Don't know</td>\n",
              "      <td>No</td>\n",
              "    </tr>\n",
              "    <tr>\n",
              "      <th>1255</th>\n",
              "      <td>32</td>\n",
              "      <td>Male</td>\n",
              "      <td>No</td>\n",
              "      <td>Yes</td>\n",
              "      <td>Yes</td>\n",
              "      <td>Often</td>\n",
              "      <td>Yes</td>\n",
              "      <td>Yes</td>\n",
              "      <td>Yes</td>\n",
              "      <td>Yes</td>\n",
              "      <td>...</td>\n",
              "      <td>Yes</td>\n",
              "      <td>Somewhat difficult</td>\n",
              "      <td>No</td>\n",
              "      <td>No</td>\n",
              "      <td>Some of them</td>\n",
              "      <td>Yes</td>\n",
              "      <td>No</td>\n",
              "      <td>No</td>\n",
              "      <td>Yes</td>\n",
              "      <td>No</td>\n",
              "    </tr>\n",
              "    <tr>\n",
              "      <th>1256</th>\n",
              "      <td>34</td>\n",
              "      <td>Male</td>\n",
              "      <td>No</td>\n",
              "      <td>Yes</td>\n",
              "      <td>Yes</td>\n",
              "      <td>Sometimes</td>\n",
              "      <td>No</td>\n",
              "      <td>Yes</td>\n",
              "      <td>Yes</td>\n",
              "      <td>Yes</td>\n",
              "      <td>...</td>\n",
              "      <td>Don't know</td>\n",
              "      <td>Somewhat difficult</td>\n",
              "      <td>Yes</td>\n",
              "      <td>Yes</td>\n",
              "      <td>No</td>\n",
              "      <td>No</td>\n",
              "      <td>No</td>\n",
              "      <td>No</td>\n",
              "      <td>No</td>\n",
              "      <td>No</td>\n",
              "    </tr>\n",
              "    <tr>\n",
              "      <th>1257</th>\n",
              "      <td>46</td>\n",
              "      <td>Female</td>\n",
              "      <td>No</td>\n",
              "      <td>No</td>\n",
              "      <td>No</td>\n",
              "      <td>N/A</td>\n",
              "      <td>Yes</td>\n",
              "      <td>Yes</td>\n",
              "      <td>No</td>\n",
              "      <td>Yes</td>\n",
              "      <td>...</td>\n",
              "      <td>Don't know</td>\n",
              "      <td>Don't know</td>\n",
              "      <td>Yes</td>\n",
              "      <td>No</td>\n",
              "      <td>No</td>\n",
              "      <td>No</td>\n",
              "      <td>No</td>\n",
              "      <td>No</td>\n",
              "      <td>No</td>\n",
              "      <td>No</td>\n",
              "    </tr>\n",
              "    <tr>\n",
              "      <th>1258</th>\n",
              "      <td>25</td>\n",
              "      <td>Male</td>\n",
              "      <td>No</td>\n",
              "      <td>Yes</td>\n",
              "      <td>Yes</td>\n",
              "      <td>Sometimes</td>\n",
              "      <td>No</td>\n",
              "      <td>No</td>\n",
              "      <td>Yes</td>\n",
              "      <td>Yes</td>\n",
              "      <td>...</td>\n",
              "      <td>Yes</td>\n",
              "      <td>Don't know</td>\n",
              "      <td>Maybe</td>\n",
              "      <td>No</td>\n",
              "      <td>Some of them</td>\n",
              "      <td>No</td>\n",
              "      <td>No</td>\n",
              "      <td>No</td>\n",
              "      <td>Don't know</td>\n",
              "      <td>No</td>\n",
              "    </tr>\n",
              "  </tbody>\n",
              "</table>\n",
              "<p>1247 rows × 22 columns</p>\n",
              "</div>\n",
              "      <button class=\"colab-df-convert\" onclick=\"convertToInteractive('df-0cd2ac47-3eaf-40e5-875e-c9b9822577fd')\"\n",
              "              title=\"Convert this dataframe to an interactive table.\"\n",
              "              style=\"display:none;\">\n",
              "        \n",
              "  <svg xmlns=\"http://www.w3.org/2000/svg\" height=\"24px\"viewBox=\"0 0 24 24\"\n",
              "       width=\"24px\">\n",
              "    <path d=\"M0 0h24v24H0V0z\" fill=\"none\"/>\n",
              "    <path d=\"M18.56 5.44l.94 2.06.94-2.06 2.06-.94-2.06-.94-.94-2.06-.94 2.06-2.06.94zm-11 1L8.5 8.5l.94-2.06 2.06-.94-2.06-.94L8.5 2.5l-.94 2.06-2.06.94zm10 10l.94 2.06.94-2.06 2.06-.94-2.06-.94-.94-2.06-.94 2.06-2.06.94z\"/><path d=\"M17.41 7.96l-1.37-1.37c-.4-.4-.92-.59-1.43-.59-.52 0-1.04.2-1.43.59L10.3 9.45l-7.72 7.72c-.78.78-.78 2.05 0 2.83L4 21.41c.39.39.9.59 1.41.59.51 0 1.02-.2 1.41-.59l7.78-7.78 2.81-2.81c.8-.78.8-2.07 0-2.86zM5.41 20L4 18.59l7.72-7.72 1.47 1.35L5.41 20z\"/>\n",
              "  </svg>\n",
              "      </button>\n",
              "      \n",
              "  <style>\n",
              "    .colab-df-container {\n",
              "      display:flex;\n",
              "      flex-wrap:wrap;\n",
              "      gap: 12px;\n",
              "    }\n",
              "\n",
              "    .colab-df-convert {\n",
              "      background-color: #E8F0FE;\n",
              "      border: none;\n",
              "      border-radius: 50%;\n",
              "      cursor: pointer;\n",
              "      display: none;\n",
              "      fill: #1967D2;\n",
              "      height: 32px;\n",
              "      padding: 0 0 0 0;\n",
              "      width: 32px;\n",
              "    }\n",
              "\n",
              "    .colab-df-convert:hover {\n",
              "      background-color: #E2EBFA;\n",
              "      box-shadow: 0px 1px 2px rgba(60, 64, 67, 0.3), 0px 1px 3px 1px rgba(60, 64, 67, 0.15);\n",
              "      fill: #174EA6;\n",
              "    }\n",
              "\n",
              "    [theme=dark] .colab-df-convert {\n",
              "      background-color: #3B4455;\n",
              "      fill: #D2E3FC;\n",
              "    }\n",
              "\n",
              "    [theme=dark] .colab-df-convert:hover {\n",
              "      background-color: #434B5C;\n",
              "      box-shadow: 0px 1px 3px 1px rgba(0, 0, 0, 0.15);\n",
              "      filter: drop-shadow(0px 1px 2px rgba(0, 0, 0, 0.3));\n",
              "      fill: #FFFFFF;\n",
              "    }\n",
              "  </style>\n",
              "\n",
              "      <script>\n",
              "        const buttonEl =\n",
              "          document.querySelector('#df-0cd2ac47-3eaf-40e5-875e-c9b9822577fd button.colab-df-convert');\n",
              "        buttonEl.style.display =\n",
              "          google.colab.kernel.accessAllowed ? 'block' : 'none';\n",
              "\n",
              "        async function convertToInteractive(key) {\n",
              "          const element = document.querySelector('#df-0cd2ac47-3eaf-40e5-875e-c9b9822577fd');\n",
              "          const dataTable =\n",
              "            await google.colab.kernel.invokeFunction('convertToInteractive',\n",
              "                                                     [key], {});\n",
              "          if (!dataTable) return;\n",
              "\n",
              "          const docLinkHtml = 'Like what you see? Visit the ' +\n",
              "            '<a target=\"_blank\" href=https://colab.research.google.com/notebooks/data_table.ipynb>data table notebook</a>'\n",
              "            + ' to learn more about interactive tables.';\n",
              "          element.innerHTML = '';\n",
              "          dataTable['output_type'] = 'display_data';\n",
              "          await google.colab.output.renderOutput(dataTable, element);\n",
              "          const docLink = document.createElement('div');\n",
              "          docLink.innerHTML = docLinkHtml;\n",
              "          element.appendChild(docLink);\n",
              "        }\n",
              "      </script>\n",
              "    </div>\n",
              "  </div>\n",
              "  "
            ]
          },
          "metadata": {},
          "execution_count": 16
        }
      ],
      "source": [
        "data.dropna()"
      ]
    },
    {
      "cell_type": "code",
      "execution_count": null,
      "metadata": {
        "colab": {
          "base_uri": "https://localhost:8080/"
        },
        "id": "ssXO5zNcoynX",
        "outputId": "22ca714d-9cf5-4722-b5ff-1c4c8a082308"
      },
      "outputs": [
        {
          "output_type": "execute_result",
          "data": {
            "text/plain": [
              "4"
            ]
          },
          "metadata": {},
          "execution_count": 17
        }
      ],
      "source": [
        "dupes=data.duplicated()\n",
        "sum(dupes)"
      ]
    },
    {
      "cell_type": "code",
      "execution_count": null,
      "metadata": {
        "id": "jVIUKnrHK8UB"
      },
      "outputs": [],
      "source": [
        "x=data.drop('treatment', axis=1)\n",
        "y= data['treatment']"
      ]
    },
    {
      "cell_type": "code",
      "execution_count": null,
      "metadata": {
        "id": "7esvdYBePVSQ"
      },
      "outputs": [],
      "source": [
        "from sklearn. compose import ColumnTransformer\n",
        "from sklearn. preprocessing import LabelEncoder,OrdinalEncoder"
      ]
    },
    {
      "cell_type": "code",
      "execution_count": null,
      "metadata": {
        "id": "Y4XvKiGXUihj"
      },
      "outputs": [],
      "source": [
        "x=data.drop('treatment', axis=1)\n",
        "y= data['treatment']"
      ]
    },
    {
      "cell_type": "code",
      "execution_count": null,
      "metadata": {
        "id": "WbriVBz-UsO-"
      },
      "outputs": [],
      "source": [
        "ct= ColumnTransformer([('oe',OrdinalEncoder(),['Gender','self_employed','family_history',\n",
        "'work_interfere','remote_work','tech_company','benefits','care_options','wellness_program','seek_help',\n",
        "'anonymity','leave','mental_health_consequence','phys_health_consequence',\n",
        "'coworkers','supervisor','mental_health_interview','phys_health_interview','mental_vs_physical','obs_consequence'])])"
      ]
    },
    {
      "cell_type": "code",
      "execution_count": null,
      "metadata": {
        "colab": {
          "base_uri": "https://localhost:8080/"
        },
        "id": "DOSzhCg0NJBZ",
        "outputId": "fb3fe322-d7c7-4625-a3db-626586ea727b"
      },
      "outputs": [
        {
          "output_type": "stream",
          "name": "stdout",
          "text": [
            "ColumnTransformer(transformers=[('oe', OrdinalEncoder(),\n",
            "                                 ['Gender', 'self_employed', 'family_history',\n",
            "                                  'work_interfere', 'remote_work',\n",
            "                                  'tech_company', 'benefits', 'care_options',\n",
            "                                  'wellness_program', 'seek_help', 'anonymity',\n",
            "                                  'leave', 'mental_health_consequence',\n",
            "                                  'phys_health_consequence', 'coworkers',\n",
            "                                  'supervisor', 'mental_health_interview',\n",
            "                                  'phys_health_interview', 'mental_vs_physical',\n",
            "                                  'obs_consequence'])])\n"
          ]
        }
      ],
      "source": [
        "print(ct)"
      ]
    },
    {
      "cell_type": "code",
      "execution_count": null,
      "metadata": {
        "id": "WLUAUZL_XlpQ"
      },
      "outputs": [],
      "source": [
        "x=ct.fit_transform(x)"
      ]
    },
    {
      "cell_type": "code",
      "execution_count": null,
      "metadata": {
        "colab": {
          "base_uri": "https://localhost:8080/"
        },
        "id": "oQ1W-GO2D9ut",
        "outputId": "e1dfd7f1-baff-4106-9592-a067a82e7501"
      },
      "outputs": [
        {
          "output_type": "execute_result",
          "data": {
            "text/plain": [
              "array(['oe__Gender', 'oe__self_employed', 'oe__family_history',\n",
              "       'oe__work_interfere', 'oe__remote_work', 'oe__tech_company',\n",
              "       'oe__benefits', 'oe__care_options', 'oe__wellness_program',\n",
              "       'oe__seek_help', 'oe__anonymity', 'oe__leave',\n",
              "       'oe__mental_health_consequence', 'oe__phys_health_consequence',\n",
              "       'oe__coworkers', 'oe__supervisor', 'oe__mental_health_interview',\n",
              "       'oe__phys_health_interview', 'oe__mental_vs_physical',\n",
              "       'oe__obs_consequence'], dtype=object)"
            ]
          },
          "metadata": {},
          "execution_count": 24
        }
      ],
      "source": [
        "ct.get_feature_names_out()"
      ]
    },
    {
      "cell_type": "code",
      "execution_count": null,
      "metadata": {
        "colab": {
          "base_uri": "https://localhost:8080/"
        },
        "id": "xW8A74ylOgAq",
        "outputId": "a19560cd-77f8-471c-8869-d7674ed317aa"
      },
      "outputs": [
        {
          "output_type": "stream",
          "name": "stdout",
          "text": [
            "[[4. 0. 0. ... 0. 2. 0.]\n",
            " [9. 0. 0. ... 1. 0. 0.]\n",
            " [9. 0. 0. ... 2. 1. 0.]\n",
            " ...\n",
            " [9. 0. 1. ... 1. 1. 0.]\n",
            " [4. 0. 0. ... 1. 1. 0.]\n",
            " [9. 0. 1. ... 1. 0. 0.]]\n"
          ]
        }
      ],
      "source": [
        "print(x)"
      ]
    },
    {
      "cell_type": "code",
      "execution_count": null,
      "metadata": {
        "id": "W8SNa8i8XvDL"
      },
      "outputs": [],
      "source": [
        "le=LabelEncoder()\n",
        "y=le.fit_transform(y)"
      ]
    },
    {
      "cell_type": "code",
      "execution_count": null,
      "metadata": {
        "colab": {
          "base_uri": "https://localhost:8080/"
        },
        "id": "JqekuVQL0-Ch",
        "outputId": "3a7d34ae-fd5e-4e65-c947-ecd5f951c963"
      },
      "outputs": [
        {
          "output_type": "stream",
          "name": "stdout",
          "text": [
            "[1 0 0 ... 1 0 1]\n"
          ]
        }
      ],
      "source": [
        "print(y)"
      ]
    },
    {
      "cell_type": "code",
      "execution_count": null,
      "metadata": {
        "colab": {
          "base_uri": "https://localhost:8080/"
        },
        "id": "61BdiLNyRX4V",
        "outputId": "269c851a-1d7b-4749-a6d4-26d580168556"
      },
      "outputs": [
        {
          "output_type": "execute_result",
          "data": {
            "text/plain": [
              "array(['No', 'Yes'], dtype=object)"
            ]
          },
          "metadata": {},
          "execution_count": 28
        }
      ],
      "source": [
        "le.classes_"
      ]
    },
    {
      "cell_type": "code",
      "execution_count": null,
      "metadata": {
        "colab": {
          "base_uri": "https://localhost:8080/"
        },
        "id": "NXyklBE6X5p6",
        "outputId": "4073c548-8d5a-4445-a623-1d7a1cabc890"
      },
      "outputs": [
        {
          "output_type": "execute_result",
          "data": {
            "text/plain": [
              "['feature_values']"
            ]
          },
          "metadata": {},
          "execution_count": 29
        }
      ],
      "source": [
        "import joblib\n",
        "joblib.dump(ct,'feature_values')"
      ]
    },
    {
      "cell_type": "code",
      "execution_count": null,
      "metadata": {
        "id": "nnFYrlJEYh2D"
      },
      "outputs": [],
      "source": [
        "from sklearn.model_selection import train_test_split\n",
        "x_train,x_test,y_train,y_test=train_test_split(x,y,test_size=0.3,random_state=49)"
      ]
    },
    {
      "cell_type": "code",
      "execution_count": null,
      "metadata": {
        "colab": {
          "base_uri": "https://localhost:8080/"
        },
        "id": "75Pl0NoFZC8X",
        "outputId": "5196f654-d679-4f52-8a36-5b01cd3cb0e9"
      },
      "outputs": [
        {
          "output_type": "execute_result",
          "data": {
            "text/plain": [
              "((872, 20), (375, 20), (872,), (375,))"
            ]
          },
          "metadata": {},
          "execution_count": 31
        }
      ],
      "source": [
        "x_train.shape,x_test.shape,y_train.shape,y_test.shape"
      ]
    },
    {
      "cell_type": "code",
      "execution_count": null,
      "metadata": {
        "id": "Ipwsfjv5ZWG6"
      },
      "outputs": [],
      "source": [
        "from sklearn.linear_model import LogisticRegression\n",
        "from sklearn.tree import DecisionTreeClassifier\n",
        "from sklearn.neighbors import KNeighborsClassifier\n",
        "from sklearn.ensemble import RandomForestClassifier,AdaBoostClassifier,GradientBoostingClassifier\n",
        "from xgboost.sklearn import XGBClassifier\n",
        "from sklearn.metrics import accuracy_score,roc_curve,confusion_matrix,classification_report,auc\n"
      ]
    },
    {
      "cell_type": "code",
      "execution_count": null,
      "metadata": {
        "id": "Tlshj1X1bxbr"
      },
      "outputs": [],
      "source": [
        "model_dict={}\n",
        "model_dict['Logistic regression']= LogisticRegression(solver='liblinear',random_state=49)\n",
        "model_dict['KNN']=KNeighborsClassifier()\n",
        "model_dict['Decision Tree']=DecisionTreeClassifier(random_state=49)\n",
        "model_dict['Random Forest']=RandomForestClassifier(random_state=49)\n",
        "model_dict['AdaBoost']=AdaBoostClassifier(random_state=49)\n",
        "model_dict['Gradient Boosting']=GradientBoostingClassifier(random_state=49)\n",
        "model_dict['XGB']=XGBClassifier(random_state=49)"
      ]
    },
    {
      "cell_type": "code",
      "execution_count": null,
      "metadata": {
        "id": "h7-Srz1ReND8"
      },
      "outputs": [],
      "source": [
        "def model_test(x_train,x_test,y_train,y_test,model,model_name):\n",
        "  model.fit(x_train,y_train)\n",
        "  y_pred=model_predict(x_test)\n",
        "  accuracy=accuracy_score(y_test,y_pred)\n",
        "  print('==============================================='.format(model_name))\n",
        "  print('score is:{}'.format(accuracy))\n",
        "  print()"
      ]
    },
    {
      "cell_type": "code",
      "execution_count": null,
      "metadata": {
        "colab": {
          "base_uri": "https://localhost:8080/"
        },
        "id": "40Uu0f_Plx2S",
        "outputId": "098c89e5-76aa-4d2c-e9e8-b86241265957"
      },
      "outputs": [
        {
          "output_type": "stream",
          "name": "stdout",
          "text": [
            "Accurancy of LogisticRegression 0.8426666666666667\n"
          ]
        }
      ],
      "source": [
        "abc=LogisticRegression(random_state=99)\n",
        "abc.fit(x_train,y_train)\n",
        "pred_abc=abc.predict(x_test)\n",
        "print('Accurancy of LogisticRegression',accuracy_score(y_test,pred_abc))"
      ]
    },
    {
      "cell_type": "code",
      "execution_count": null,
      "metadata": {
        "colab": {
          "base_uri": "https://localhost:8080/"
        },
        "id": "-5GB38KwfMRv",
        "outputId": "f5f9231d-0eb8-4d71-c11a-46e3f5b50c07"
      },
      "outputs": [
        {
          "output_type": "stream",
          "name": "stdout",
          "text": [
            "Accurancy of AdaBoost 0.8666666666666667\n"
          ]
        }
      ],
      "source": [
        "abc=AdaBoostClassifier(random_state=99)\n",
        "abc.fit(x_train,y_train)\n",
        "pred_abc=abc.predict(x_test)\n",
        "print('Accurancy of AdaBoost',accuracy_score(y_test,pred_abc))"
      ]
    },
    {
      "cell_type": "code",
      "execution_count": null,
      "metadata": {
        "id": "xbY8nVT6z6X5"
      },
      "outputs": [],
      "source": [
        "from sklearn.model_selection import RandomizedSearchCV\n",
        "params_abc = {'n_estimators':[int (x) for x in np.linspace(start = 1,stop = 50,num = 15)],\n",
        "            'learning_rate':[(0.97 + x/100) for x in range(0,8)],}\n",
        "abc_random=RandomizedSearchCV(random_state=49,estimator=abc,param_distributions=params_abc,n_iter=50,cv=5,n_jobs=-1)"
      ]
    },
    {
      "cell_type": "code",
      "execution_count": null,
      "metadata": {
        "colab": {
          "base_uri": "https://localhost:8080/"
        },
        "id": "NoZUklm0fqQu",
        "outputId": "4628ac86-6d89-46a1-d96e-ebdca25547d7"
      },
      "outputs": [
        {
          "output_type": "execute_result",
          "data": {
            "text/plain": [
              "{'n_estimators': [1, 4, 8, 11, 15, 18, 22, 25, 29, 32, 36, 39, 43, 46, 50],\n",
              " 'learning_rate': [0.97, 0.98, 0.99, 1.0, 1.01, 1.02, 1.03, 1.04]}"
            ]
          },
          "metadata": {},
          "execution_count": 38
        }
      ],
      "source": [
        "params_abc"
      ]
    },
    {
      "cell_type": "code",
      "execution_count": null,
      "metadata": {
        "colab": {
          "base_uri": "https://localhost:8080/",
          "height": 117
        },
        "id": "XAGLr0NhiLe8",
        "outputId": "c7564a92-c5ca-4f75-f48b-240ad12d6ca4"
      },
      "outputs": [
        {
          "output_type": "execute_result",
          "data": {
            "text/plain": [
              "RandomizedSearchCV(cv=5, estimator=AdaBoostClassifier(random_state=99),\n",
              "                   n_iter=50, n_jobs=-1,\n",
              "                   param_distributions={'learning_rate': [0.97, 0.98, 0.99, 1.0,\n",
              "                                                          1.01, 1.02, 1.03,\n",
              "                                                          1.04],\n",
              "                                        'n_estimators': [1, 4, 8, 11, 15, 18,\n",
              "                                                         22, 25, 29, 32, 36, 39,\n",
              "                                                         43, 46, 50]},\n",
              "                   random_state=49)"
            ],
            "text/html": [
              "<style>#sk-container-id-1 {color: black;background-color: white;}#sk-container-id-1 pre{padding: 0;}#sk-container-id-1 div.sk-toggleable {background-color: white;}#sk-container-id-1 label.sk-toggleable__label {cursor: pointer;display: block;width: 100%;margin-bottom: 0;padding: 0.3em;box-sizing: border-box;text-align: center;}#sk-container-id-1 label.sk-toggleable__label-arrow:before {content: \"▸\";float: left;margin-right: 0.25em;color: #696969;}#sk-container-id-1 label.sk-toggleable__label-arrow:hover:before {color: black;}#sk-container-id-1 div.sk-estimator:hover label.sk-toggleable__label-arrow:before {color: black;}#sk-container-id-1 div.sk-toggleable__content {max-height: 0;max-width: 0;overflow: hidden;text-align: left;background-color: #f0f8ff;}#sk-container-id-1 div.sk-toggleable__content pre {margin: 0.2em;color: black;border-radius: 0.25em;background-color: #f0f8ff;}#sk-container-id-1 input.sk-toggleable__control:checked~div.sk-toggleable__content {max-height: 200px;max-width: 100%;overflow: auto;}#sk-container-id-1 input.sk-toggleable__control:checked~label.sk-toggleable__label-arrow:before {content: \"▾\";}#sk-container-id-1 div.sk-estimator input.sk-toggleable__control:checked~label.sk-toggleable__label {background-color: #d4ebff;}#sk-container-id-1 div.sk-label input.sk-toggleable__control:checked~label.sk-toggleable__label {background-color: #d4ebff;}#sk-container-id-1 input.sk-hidden--visually {border: 0;clip: rect(1px 1px 1px 1px);clip: rect(1px, 1px, 1px, 1px);height: 1px;margin: -1px;overflow: hidden;padding: 0;position: absolute;width: 1px;}#sk-container-id-1 div.sk-estimator {font-family: monospace;background-color: #f0f8ff;border: 1px dotted black;border-radius: 0.25em;box-sizing: border-box;margin-bottom: 0.5em;}#sk-container-id-1 div.sk-estimator:hover {background-color: #d4ebff;}#sk-container-id-1 div.sk-parallel-item::after {content: \"\";width: 100%;border-bottom: 1px solid gray;flex-grow: 1;}#sk-container-id-1 div.sk-label:hover label.sk-toggleable__label {background-color: #d4ebff;}#sk-container-id-1 div.sk-serial::before {content: \"\";position: absolute;border-left: 1px solid gray;box-sizing: border-box;top: 0;bottom: 0;left: 50%;z-index: 0;}#sk-container-id-1 div.sk-serial {display: flex;flex-direction: column;align-items: center;background-color: white;padding-right: 0.2em;padding-left: 0.2em;position: relative;}#sk-container-id-1 div.sk-item {position: relative;z-index: 1;}#sk-container-id-1 div.sk-parallel {display: flex;align-items: stretch;justify-content: center;background-color: white;position: relative;}#sk-container-id-1 div.sk-item::before, #sk-container-id-1 div.sk-parallel-item::before {content: \"\";position: absolute;border-left: 1px solid gray;box-sizing: border-box;top: 0;bottom: 0;left: 50%;z-index: -1;}#sk-container-id-1 div.sk-parallel-item {display: flex;flex-direction: column;z-index: 1;position: relative;background-color: white;}#sk-container-id-1 div.sk-parallel-item:first-child::after {align-self: flex-end;width: 50%;}#sk-container-id-1 div.sk-parallel-item:last-child::after {align-self: flex-start;width: 50%;}#sk-container-id-1 div.sk-parallel-item:only-child::after {width: 0;}#sk-container-id-1 div.sk-dashed-wrapped {border: 1px dashed gray;margin: 0 0.4em 0.5em 0.4em;box-sizing: border-box;padding-bottom: 0.4em;background-color: white;}#sk-container-id-1 div.sk-label label {font-family: monospace;font-weight: bold;display: inline-block;line-height: 1.2em;}#sk-container-id-1 div.sk-label-container {text-align: center;}#sk-container-id-1 div.sk-container {/* jupyter's `normalize.less` sets `[hidden] { display: none; }` but bootstrap.min.css set `[hidden] { display: none !important; }` so we also need the `!important` here to be able to override the default hidden behavior on the sphinx rendered scikit-learn.org. See: https://github.com/scikit-learn/scikit-learn/issues/21755 */display: inline-block !important;position: relative;}#sk-container-id-1 div.sk-text-repr-fallback {display: none;}</style><div id=\"sk-container-id-1\" class=\"sk-top-container\"><div class=\"sk-text-repr-fallback\"><pre>RandomizedSearchCV(cv=5, estimator=AdaBoostClassifier(random_state=99),\n",
              "                   n_iter=50, n_jobs=-1,\n",
              "                   param_distributions={&#x27;learning_rate&#x27;: [0.97, 0.98, 0.99, 1.0,\n",
              "                                                          1.01, 1.02, 1.03,\n",
              "                                                          1.04],\n",
              "                                        &#x27;n_estimators&#x27;: [1, 4, 8, 11, 15, 18,\n",
              "                                                         22, 25, 29, 32, 36, 39,\n",
              "                                                         43, 46, 50]},\n",
              "                   random_state=49)</pre><b>In a Jupyter environment, please rerun this cell to show the HTML representation or trust the notebook. <br />On GitHub, the HTML representation is unable to render, please try loading this page with nbviewer.org.</b></div><div class=\"sk-container\" hidden><div class=\"sk-item sk-dashed-wrapped\"><div class=\"sk-label-container\"><div class=\"sk-label sk-toggleable\"><input class=\"sk-toggleable__control sk-hidden--visually\" id=\"sk-estimator-id-1\" type=\"checkbox\" ><label for=\"sk-estimator-id-1\" class=\"sk-toggleable__label sk-toggleable__label-arrow\">RandomizedSearchCV</label><div class=\"sk-toggleable__content\"><pre>RandomizedSearchCV(cv=5, estimator=AdaBoostClassifier(random_state=99),\n",
              "                   n_iter=50, n_jobs=-1,\n",
              "                   param_distributions={&#x27;learning_rate&#x27;: [0.97, 0.98, 0.99, 1.0,\n",
              "                                                          1.01, 1.02, 1.03,\n",
              "                                                          1.04],\n",
              "                                        &#x27;n_estimators&#x27;: [1, 4, 8, 11, 15, 18,\n",
              "                                                         22, 25, 29, 32, 36, 39,\n",
              "                                                         43, 46, 50]},\n",
              "                   random_state=49)</pre></div></div></div><div class=\"sk-parallel\"><div class=\"sk-parallel-item\"><div class=\"sk-item\"><div class=\"sk-label-container\"><div class=\"sk-label sk-toggleable\"><input class=\"sk-toggleable__control sk-hidden--visually\" id=\"sk-estimator-id-2\" type=\"checkbox\" ><label for=\"sk-estimator-id-2\" class=\"sk-toggleable__label sk-toggleable__label-arrow\">estimator: AdaBoostClassifier</label><div class=\"sk-toggleable__content\"><pre>AdaBoostClassifier(random_state=99)</pre></div></div></div><div class=\"sk-serial\"><div class=\"sk-item\"><div class=\"sk-estimator sk-toggleable\"><input class=\"sk-toggleable__control sk-hidden--visually\" id=\"sk-estimator-id-3\" type=\"checkbox\" ><label for=\"sk-estimator-id-3\" class=\"sk-toggleable__label sk-toggleable__label-arrow\">AdaBoostClassifier</label><div class=\"sk-toggleable__content\"><pre>AdaBoostClassifier(random_state=99)</pre></div></div></div></div></div></div></div></div></div></div>"
            ]
          },
          "metadata": {},
          "execution_count": 39
        }
      ],
      "source": [
        "abc_random.fit(x_train,y_train)"
      ]
    },
    {
      "cell_type": "code",
      "execution_count": null,
      "metadata": {
        "colab": {
          "base_uri": "https://localhost:8080/"
        },
        "id": "LmIv_KaMiilp",
        "outputId": "27094e82-c5e0-4f35-fef4-7aa0c4f3e2cc"
      },
      "outputs": [
        {
          "output_type": "execute_result",
          "data": {
            "text/plain": [
              "{'n_estimators': 25, 'learning_rate': 1.01}"
            ]
          },
          "metadata": {},
          "execution_count": 40
        }
      ],
      "source": [
        "abc_random.best_params_"
      ]
    },
    {
      "cell_type": "code",
      "execution_count": null,
      "metadata": {
        "colab": {
          "base_uri": "https://localhost:8080/"
        },
        "id": "kYAEWt5_ipSp",
        "outputId": "e0f37f8d-31c4-4e60-a169-cf0c1d2d379b"
      },
      "outputs": [
        {
          "output_type": "stream",
          "name": "stdout",
          "text": [
            "Accurancy of AdaBoost(tuned)= 0.872\n"
          ]
        }
      ],
      "source": [
        "abc_tuned=AdaBoostClassifier(random_state=49,n_estimators=11,learning_rate=1.02)\n",
        "abc_tuned.fit(x_train,y_train)\n",
        "pred_abc_tuned=abc_tuned.predict(x_test)\n",
        "print('Accurancy of AdaBoost(tuned)=',accuracy_score(y_test,pred_abc_tuned))"
      ]
    },
    {
      "cell_type": "code",
      "execution_count": null,
      "metadata": {
        "id": "hXQNDBT4jpal"
      },
      "outputs": [],
      "source": [
        "from sklearn.metrics import accuracy_score\n",
        "from sklearn.metrics import matthews_corrcoef\n",
        "from sklearn.metrics import f1_score\n"
      ]
    },
    {
      "cell_type": "code",
      "execution_count": null,
      "metadata": {
        "id": "MTGDkVhKaK7W"
      },
      "outputs": [],
      "source": []
    },
    {
      "cell_type": "code",
      "execution_count": null,
      "metadata": {
        "colab": {
          "base_uri": "https://localhost:8080/"
        },
        "id": "3mpUzYqDoZA7",
        "outputId": "f199ed81-cee1-4207-f989-a96963894a28"
      },
      "outputs": [
        {
          "output_type": "stream",
          "name": "stdout",
          "text": [
            "training set\n",
            "accurancy %s 0.8589449541284404\n",
            "mcc %s 0.7181670154754978\n",
            "f1 score %s 0.8588753325218494\n",
            "test set\n",
            "accurancy %s 0.7653333333333333\n",
            "mcc %s 0.5315928492085357\n",
            "f1 score %s 0.7652164807648532\n"
          ]
        }
      ],
      "source": [
        "from sklearn.neighbors import KNeighborsClassifier\n",
        "knn=KNeighborsClassifier(3)\n",
        "knn.fit(x_train,y_train)\n",
        "y_train_pred=knn.predict(x_train)\n",
        "y_test_pred=knn.predict(x_test)\n",
        "\n",
        "knn_train_accuracy=accuracy_score(y_train,y_train_pred)\n",
        "knn_train_mcc=matthews_corrcoef(y_train,y_train_pred)\n",
        "knn_train_f1=f1_score(y_train,y_train_pred,average='weighted')\n",
        "\n",
        "knn_test_accuracy=accuracy_score(y_test,y_test_pred)\n",
        "knn_test_mcc=matthews_corrcoef(y_test,y_test_pred)\n",
        "knn_test_f1=f1_score(y_test,y_test_pred,average='weighted')\n",
        "\n",
        "\n",
        "print(\"training set\")\n",
        "print(\"accurancy %s\",knn_train_accuracy)\n",
        "print(\"mcc %s\",knn_train_mcc)\n",
        "print(\"f1 score %s\",knn_train_f1)\n",
        "\n",
        "print(\"test set\")\n",
        "print(\"accurancy %s\",knn_test_accuracy)\n",
        "print(\"mcc %s\",knn_test_mcc)\n",
        "print(\"f1 score %s\",knn_test_f1)\n"
      ]
    },
    {
      "cell_type": "code",
      "execution_count": null,
      "metadata": {
        "colab": {
          "base_uri": "https://localhost:8080/"
        },
        "id": "9f2VFYvLxytF",
        "outputId": "f0f14bd8-63be-41d9-dff5-d869ff6d0b3a"
      },
      "outputs": [
        {
          "output_type": "stream",
          "name": "stdout",
          "text": [
            "training set\n",
            "accurancy %s 0.8371559633027523\n",
            "mcc %s 0.6815866096541671\n",
            "f1 score %s 0.8360735129602256\n",
            "test set\n",
            "accurancy %s 0.8693333333333333\n",
            "mcc %s 0.741519159710272\n",
            "f1 score %s 0.8690165091816722\n"
          ]
        }
      ],
      "source": [
        "from sklearn.neural_network import MLPClassifier\n",
        "\n",
        "mlp=MLPClassifier(alpha=1,max_iter=1000)\n",
        "mlp.fit(x_train,y_train)\n",
        "\n",
        "y_train_pred=mlp.predict(x_train)\n",
        "y_test_pred=mlp.predict(x_test)\n",
        "\n",
        "mlp_train_accuracy=accuracy_score(y_train,y_train_pred)\n",
        "mlp_train_mcc=matthews_corrcoef(y_train,y_train_pred)\n",
        "mlp_train_f1=f1_score(y_train,y_train_pred,average='weighted')\n",
        "\n",
        "mlp_test_accuracy=accuracy_score(y_test,y_test_pred)\n",
        "mlp_test_mcc=matthews_corrcoef(y_test,y_test_pred)\n",
        "mlp_test_f1=f1_score(y_test,y_test_pred,average='weighted')\n",
        "\n",
        "\n",
        "\n",
        "print(\"training set\")\n",
        "print(\"accurancy %s\",mlp_train_accuracy)\n",
        "print(\"mcc %s\",mlp_train_mcc)\n",
        "print(\"f1 score %s\",mlp_train_f1)\n",
        "\n",
        "print(\"test set\")\n",
        "print(\"accurancy %s\",mlp_test_accuracy)\n",
        "print(\"mcc %s\",mlp_test_mcc)\n",
        "print(\"f1 score %s\",mlp_test_f1)"
      ]
    },
    {
      "cell_type": "code",
      "execution_count": null,
      "metadata": {
        "colab": {
          "base_uri": "https://localhost:8080/"
        },
        "id": "viOtxemp0HgL",
        "outputId": "78d2eb5e-36c1-4bcc-d2b2-6a5b8c9b4633"
      },
      "outputs": [
        {
          "output_type": "stream",
          "name": "stdout",
          "text": [
            "training set\n",
            "accurancy %s 1.0\n",
            "mcc %s 1.0\n",
            "f1 score %s 1.0\n",
            "training set\n",
            "accurancy %s 0.5786666666666667\n",
            "mcc %s 0.2775929392371407\n",
            "f1 score %s 0.48806158967956725\n"
          ]
        }
      ],
      "source": [
        "from sklearn.svm import SVC\n",
        "\n",
        "svm_rbf=SVC(gamma=2,C=1)\n",
        "svm_rbf.fit(x_train,y_train)\n",
        "y_train_pred=svm_rbf.predict(x_train)\n",
        "y_test_pred=svm_rbf.predict(x_test)\n",
        "\n",
        "svm_rbf_train_accuracy=accuracy_score(y_train,y_train_pred)\n",
        "svm_rbf_train_mcc=matthews_corrcoef(y_train,y_train_pred)\n",
        "svm_rbf_train_f1=f1_score(y_train,y_train_pred,average='weighted')\n",
        "\n",
        "svm_rbf_test_accuracy=accuracy_score(y_test,y_test_pred)\n",
        "svm_rbf_test_mcc=matthews_corrcoef(y_test,y_test_pred)\n",
        "svm_rbf_test_f1=f1_score(y_test,y_test_pred,average='weighted')\n",
        "\n",
        "\n",
        "print(\"training set\")\n",
        "print(\"accurancy %s\",svm_rbf_train_accuracy)\n",
        "print(\"mcc %s\",svm_rbf_train_mcc)\n",
        "print(\"f1 score %s\",svm_rbf_train_f1)\n",
        "\n",
        "print(\"training set\")\n",
        "print(\"accurancy %s\",svm_rbf_test_accuracy)\n",
        "print(\"mcc %s\",svm_rbf_test_mcc)\n",
        "print(\"f1 score %s\",svm_rbf_test_f1)\n",
        "\n",
        "\n"
      ]
    },
    {
      "cell_type": "code",
      "execution_count": null,
      "metadata": {
        "colab": {
          "base_uri": "https://localhost:8080/"
        },
        "id": "lXbZuH9tvAV_",
        "outputId": "2f162ff7-fb8f-4dd5-b33f-ad2025f7cd58"
      },
      "outputs": [
        {
          "output_type": "stream",
          "name": "stdout",
          "text": [
            "model performance of training set\n",
            "accurancy %s 0.9896788990825688\n",
            "mcc %s 0.9793798990644919\n",
            "f1 score %s 0.9896791841452312\n",
            "test set\n",
            "accurancy %s 0.824\n",
            "mcc %s 0.648687985787306\n",
            "f1 score %s 0.8239499288762446\n"
          ]
        }
      ],
      "source": [
        "from sklearn.ensemble import RandomForestClassifier\n",
        "rf=RandomForestClassifier(n_estimators=10)\n",
        "rf.fit(x_train,y_train)\n",
        "\n",
        "y_train_pred=rf.predict(x_train)\n",
        "y_test_pred=rf.predict(x_test)\n",
        "\n",
        "rf_train_accuracy=accuracy_score(y_train,y_train_pred)\n",
        "rf_train_mcc=matthews_corrcoef(y_train,y_train_pred)\n",
        "rf_train_f1=f1_score(y_train,y_train_pred, average='weighted')\n",
        "\n",
        "rf_test_accuracy=accuracy_score(y_test,y_test_pred)\n",
        "rf_test_mcc=matthews_corrcoef(y_test,y_test_pred)\n",
        "rf_test_f1=f1_score(y_test,y_test_pred ,average='weighted')\n",
        "\n",
        "\n",
        "print(\"model performance of training set\")\n",
        "print(\"accurancy %s\",rf_train_accuracy)\n",
        "print(\"mcc %s\",rf_train_mcc)\n",
        "print(\"f1 score %s\",rf_train_f1)\n",
        "\n",
        "print(\"test set\")\n",
        "print(\"accurancy %s\",rf_test_accuracy)\n",
        "print(\"mcc %s\",rf_test_mcc)\n",
        "print(\"f1 score %s\",rf_test_f1)\n",
        "\n",
        "                       \n",
        "\n"
      ]
    },
    {
      "cell_type": "code",
      "execution_count": null,
      "metadata": {
        "colab": {
          "base_uri": "https://localhost:8080/"
        },
        "id": "ITLO9H2gx2W3",
        "outputId": "2509275e-9662-444e-8f64-3885a1ac6ed6"
      },
      "outputs": [
        {
          "output_type": "stream",
          "name": "stdout",
          "text": [
            "model performance for training set\n",
            "Accuracy:%s 0.8256880733944955\n",
            "MCC%s 0.6515933519579525\n",
            "f1_score%s 0.8256880733944955\n",
            "model performance for test set\n",
            "Accuracy:%s 0.8426666666666667\n",
            "MCC%s 0.6856240645204054\n",
            "f1_score%s 0.8426554782002689\n"
          ]
        }
      ],
      "source": [
        "from sklearn.tree import DecisionTreeClassifier\n",
        "dt=DecisionTreeClassifier(max_depth=5)\n",
        "dt.fit(x_train,y_train)\n",
        "\n",
        "y_train_pred=dt.predict(x_train)\n",
        "y_test_pred=dt.predict(x_test)\n",
        "\n",
        "\n",
        "dt_train_accuracy=accuracy_score(y_train,y_train_pred)\n",
        "dt_train_mcc=matthews_corrcoef(y_train,y_train_pred)\n",
        "dt_train_f1=f1_score(y_train,y_train_pred,average='weighted')\n",
        "\n",
        "dt_test_accuracy=accuracy_score(y_test,y_test_pred)\n",
        "dt_test_mcc=matthews_corrcoef(y_test,y_test_pred)\n",
        "dt_test_f1=f1_score(y_test,y_test_pred,average='weighted')\n",
        "\n",
        "print('model performance for training set')\n",
        "print('Accuracy:%s',dt_train_accuracy)\n",
        "print('MCC%s',dt_train_mcc)\n",
        "print('f1_score%s',dt_train_f1)\n",
        "\n",
        "\n",
        "print('model performance for test set')\n",
        "print('Accuracy:%s',dt_test_accuracy)\n",
        "print('MCC%s',dt_test_mcc)\n",
        "print('f1_score%s',dt_test_f1)"
      ]
    },
    {
      "cell_type": "code",
      "execution_count": null,
      "metadata": {
        "colab": {
          "base_uri": "https://localhost:8080/",
          "height": 472
        },
        "id": "w9ojoz9I4bh5",
        "outputId": "c5b43550-269c-40e7-c4c5-feb481e57653"
      },
      "outputs": [
        {
          "output_type": "display_data",
          "data": {
            "text/plain": [
              "<Figure size 640x480 with 1 Axes>"
            ],
            "image/png": "[encoded data removed]"
          },
          "metadata": {}
        }
      ],
      "source": [
        "# Create lists of accuracy scores for both training and test sets\n",
        "accuracy_scores = [dt_train_accuracy, dt_test_accuracy]\n",
        "\n",
        "# Create a line graph of the accuracy scores\n",
        "plt.plot(accuracy_scores)\n",
        "plt.title('Decision Tree Accuracy')\n",
        "plt.xlabel('Training and Test Sets')\n",
        "plt.ylabel('Accuracy')\n",
        "plt.xticks([0, 1], ['Training', 'Test'])\n",
        "plt.ylim([0.0, 1.0])\n",
        "plt.show()\n",
        "\n",
        "\n",
        "\n",
        "\n",
        "\n",
        "\n",
        "\n"
      ]
    },
    {
      "cell_type": "code",
      "execution_count": null,
      "metadata": {
        "id": "OaTWi80uvNh7"
      },
      "outputs": [],
      "source": [
        "import matplotlib.pyplot as plt"
      ]
    },
    {
      "cell_type": "code",
      "execution_count": null,
      "metadata": {
        "colab": {
          "base_uri": "https://localhost:8080/"
        },
        "id": "nmfIIVxgO2M5",
        "outputId": "632d1421-040a-4580-b621-23781d59199d"
      },
      "outputs": [
        {
          "output_type": "stream",
          "name": "stdout",
          "text": [
            "training set\n",
            "accurancy %s 0.9094036697247706\n",
            "mcc %s 0.8204653282809894\n",
            "f1 score %s 0.9092686460781555\n",
            "test set\n",
            "accurancy %s 0.848\n",
            "mcc %s 0.6960307526556867\n",
            "f1 score %s 0.8479805390179885\n"
          ]
        }
      ],
      "source": [
        "from sklearn.ensemble import StackingClassifier\n",
        "from sklearn.linear_model import LogisticRegression\n",
        "\n",
        "estimators=[('knn',knn),('mlp',mlp),('rf',rf)]\n",
        "\n",
        "stack_model=StackingClassifier(estimators=estimators,final_estimator=LogisticRegression())\n",
        "\n",
        "stack_model.fit(x_train,y_train)\n",
        "\n",
        "y_train_pred=stack_model.predict(x_train)\n",
        "y_test_pred=stack_model.predict(x_test)\n",
        "\n",
        "stack_model__train_accuracy=accuracy_score(y_train,y_train_pred)\n",
        "stack_model__train_mcc=matthews_corrcoef(y_train,y_train_pred)\n",
        "stack_model_train_f1=f1_score(y_train,y_train_pred,average='weighted')\n",
        "\n",
        "stack_model__test_accuracy=accuracy_score(y_test,y_test_pred)\n",
        "stack_model__test_mcc=matthews_corrcoef(y_test,y_test_pred)\n",
        "stack_model_test_f1=f1_score(y_test,y_test_pred,average='weighted')\n",
        "\n",
        "\n",
        "print(\"training set\")\n",
        "print(\"accurancy %s\",stack_model__train_accuracy)\n",
        "print(\"mcc %s\",stack_model__train_mcc)\n",
        "print(\"f1 score %s\",stack_model_train_f1)\n",
        "\n",
        "print(\"test set\")\n",
        "print(\"accurancy %s\",stack_model__test_accuracy)\n",
        "print(\"mcc %s\",stack_model__test_mcc)\n",
        "print(\"f1 score %s\",stack_model_test_f1)\n",
        "\n",
        "\n"
      ]
    },
    {
      "cell_type": "code",
      "execution_count": null,
      "metadata": {
        "colab": {
          "base_uri": "https://localhost:8080/",
          "height": 472
        },
        "id": "wtlKSKAe2ORr",
        "outputId": "adb9e202-0ca1-4563-f35b-e04e555312d8"
      },
      "outputs": [
        {
          "output_type": "display_data",
          "data": {
            "text/plain": [
              "<Figure size 640x480 with 1 Axes>"
            ],
            "image/png": "[encoded data removed]"
          },
          "metadata": {}
        }
      ],
      "source": [
        "algorithm_names = ['DT', 'RF','MLP', 'Stacking','KNN']\n",
        "accuracies = [0.843, 0.81, 0.845, 0.85,0.76]\n",
        "plt.bar(algorithm_names, accuracies)\n",
        "plt.title('Accuracy of Different Algorithms')\n",
        "plt.xlabel('Algorithms')\n",
        "plt.ylabel('Accuracy')\n",
        "plt.show()\n"
      ]
    },
    {
      "cell_type": "code",
      "source": [
        "import matplotlib.pyplot as plt\n",
        "\n",
        "algorithm_names = ['DT', 'RF', 'MLP', 'Stacking', 'KNN']\n",
        "accuracies = [0.843, 0.81, 0.845, 0.85, 0.76]\n",
        "\n",
        "plt.bar(algorithm_names, accuracies)\n",
        "plt.title('Accuracy of Different Algorithms')\n",
        "plt.xlabel('Algorithms')\n",
        "plt.ylabel('Accuracy')\n",
        "\n",
        "# Add accuracy values on top of each bar\n",
        "for i in range(len(algorithm_names)):\n",
        "    plt.text(i, accuracies[i], str(accuracies[i]), ha='center', va='bottom')\n",
        "\n",
        "plt.show()\n"
      ],
      "metadata": {
        "colab": {
          "base_uri": "https://localhost:8080/",
          "height": 472
        },
        "id": "O0icdO75Dzts",
        "outputId": "ff573c0a-181c-4eba-91b7-a26a114488b4"
      },
      "execution_count": null,
      "outputs": [
        {
          "output_type": "display_data",
          "data": {
            "text/plain": [
              "<Figure size 640x480 with 1 Axes>"
            ],
            "image/png": "[encoded data removed]"
          },
          "metadata": {}
        }
      ]
    },
    {
      "cell_type": "code",
      "execution_count": null,
      "metadata": {
        "colab": {
          "base_uri": "https://localhost:8080/",
          "height": 453
        },
        "id": "MbaglLwzGwE3",
        "outputId": "b36df5b5-5648-4f27-8fa7-c766db8e8f0b"
      },
      "outputs": [
        {
          "output_type": "stream",
          "name": "stdout",
          "text": [
            "Looking in indexes: https://pypi.org/simple, https://us-python.pkg.dev/colab-wheels/public/simple/\n",
            "Collecting anvil-uplink\n",
            "  Downloading anvil_uplink-0.4.2-py2.py3-none-any.whl (90 kB)\n",
            "\u001b[2K     \u001b[90m━━━━━━━━━━━━━━━━━━━━━━━━━━━━━━━━━━━━━━━━\u001b[0m \u001b[32m90.1/90.1 kB\u001b[0m \u001b[31m4.7 MB/s\u001b[0m eta \u001b[36m0:00:00\u001b[0m\n",
            "\u001b[?25hCollecting argparse (from anvil-uplink)\n",
            "  Downloading argparse-1.4.0-py2.py3-none-any.whl (23 kB)\n",
            "Requirement already satisfied: future in /usr/local/lib/python3.10/dist-packages (from anvil-uplink) (0.18.3)\n",
            "Requirement already satisfied: six in /usr/local/lib/python3.10/dist-packages (from anvil-uplink) (1.16.0)\n",
            "Collecting ws4py (from anvil-uplink)\n",
            "  Downloading ws4py-0.5.1.tar.gz (51 kB)\n",
            "\u001b[2K     \u001b[90m━━━━━━━━━━━━━━━━━━━━━━━━━━━━━━━━━━━━━━━━\u001b[0m \u001b[32m51.4/51.4 kB\u001b[0m \u001b[31m4.0 MB/s\u001b[0m eta \u001b[36m0:00:00\u001b[0m\n",
            "\u001b[?25h  Preparing metadata (setup.py) ... \u001b[?25l\u001b[?25hdone\n",
            "Building wheels for collected packages: ws4py\n",
            "  Building wheel for ws4py (setup.py) ... \u001b[?25l\u001b[?25hdone\n",
            "  Created wheel for ws4py: filename=ws4py-0.5.1-py3-none-any.whl size=45228 sha256=d6cbb6dfc377d4e6094cbf36215d4982c754542bbaa28ed3cfc9fb1e057b81f6\n",
            "  Stored in directory: /root/.cache/pip/wheels/2e/7c/ad/d9c746276bf024d44296340869fcb169f1e5d80fb147351a57\n",
            "Successfully built ws4py\n",
            "Installing collected packages: ws4py, argparse, anvil-uplink\n",
            "Successfully installed anvil-uplink-0.4.2 argparse-1.4.0 ws4py-0.5.1\n"
          ]
        },
        {
          "output_type": "display_data",
          "data": {
            "application/vnd.colab-display-data+json": {
              "pip_warning": {
                "packages": [
                  "argparse",
                  "google"
                ]
              }
            }
          },
          "metadata": {}
        }
      ],
      "source": [
        "!pip install anvil-uplink"
      ]
    },
    {
      "cell_type": "code",
      "execution_count": null,
      "metadata": {
        "id": "LG-mUn7_DNFN"
      },
      "outputs": [],
      "source": [
        "import anvil.server"
      ]
    },
    {
      "cell_type": "code",
      "execution_count": null,
      "metadata": {
        "colab": {
          "base_uri": "https://localhost:8080/"
        },
        "id": "TlsDE11ajVvv",
        "outputId": "8fb5f27f-5498-43fc-e2c8-d6bbd7754e7f"
      },
      "outputs": [
        {
          "output_type": "stream",
          "name": "stdout",
          "text": [
            "Connecting to wss://anvil.works/uplink\n",
            "Anvil websocket open\n",
            "Connected to \"Published\" as SERVER\n"
          ]
        }
      ],
      "source": [
        " anvil.server.connect(\"server_5BMIWF6QEXTIAJ7VGQUUP3MQ-I36IBZQWPO7TLCXL\")\n"
      ]
    },
    {
      "cell_type": "code",
      "execution_count": null,
      "metadata": {
        "colab": {
          "base_uri": "https://localhost:8080/"
        },
        "id": "vsiLZlxPyNTv",
        "outputId": "d61c87cc-2f2e-4755-851c-91e61a995675"
      },
      "outputs": [
        {
          "output_type": "execute_result",
          "data": {
            "text/plain": [
              "Age                                          31\n",
              "Gender                                     Male\n",
              "self_employed                                No\n",
              "family_history                              Yes\n",
              "treatment                                   Yes\n",
              "work_interfere                            Often\n",
              "remote_work                                  No\n",
              "tech_company                                Yes\n",
              "benefits                                     No\n",
              "care_options                                Yes\n",
              "wellness_program                             No\n",
              "seek_help                                    No\n",
              "anonymity                                    No\n",
              "leave                        Somewhat difficult\n",
              "mental_health_consequence                   Yes\n",
              "phys_health_consequence                     Yes\n",
              "coworkers                          Some of them\n",
              "supervisor                                   No\n",
              "mental_health_interview                   Maybe\n",
              "phys_health_interview                     Maybe\n",
              "mental_vs_physical                           No\n",
              "obs_consequence                             Yes\n",
              "Name: 3, dtype: object"
            ]
          },
          "metadata": {},
          "execution_count": 56
        }
      ],
      "source": [
        "data.iloc[3]"
      ]
    },
    {
      "cell_type": "code",
      "execution_count": null,
      "metadata": {
        "id": "LjiuSOjIBYQK"
      },
      "outputs": [],
      "source": [
        "@anvil.server.callable\n",
        "def submit_form(text_box_1, drop_down_1,drop_down_2, drop_down_3,drop_down_4,drop_down_5,drop_down_6,drop_down_7,\n",
        "                drop_down_8,drop_down_9,drop_down_10,drop_down_11,drop_down_12,drop_down_13,drop_down_14,\n",
        "                drop_down_15,drop_down_16,drop_down_17,drop_down_20,drop_down_18,drop_down_19):\n",
        "  \n",
        "  # arr = np.array([[text_box_1, drop_down_1, drop_down_2,]])\n",
        "  \n",
        " # print(text_box_1)\n",
        " # print(drop_down_11)\n",
        "  # classification=stack_model.predict(arr)\n",
        "  # return treatment[classification][0]\n",
        "  arr = np.array([drop_down_1,drop_down_2, drop_down_3,drop_down_4,drop_down_5,drop_down_6,drop_down_7,\n",
        "                drop_down_8,drop_down_9,drop_down_10,drop_down_11,drop_down_12,drop_down_13,drop_down_14,\n",
        "                drop_down_15,drop_down_16,drop_down_17,drop_down_20,drop_down_18,drop_down_19]).reshape(1, -1)\n",
        "\n",
        "\n",
        "  arr=pd.DataFrame(data=arr, index=np.arange(len(arr)), columns=['Gender','self_employed','family_history',\n",
        "  'work_interfere','remote_work','tech_company','benefits','care_options','wellness_program','seek_help',\n",
        "  'anonymity','leave','mental_health_consequence','phys_health_consequence',\n",
        "  'coworkers','supervisor','mental_health_interview','phys_health_interview','mental_vs_physical','obs_consequence'])\n",
        "  arr.shape\n",
        "  actual_input=ct.transform(arr)\n",
        "  print(actual_input)\n",
        "  #inserting age into input\n",
        "  np.insert(actual_input, 0, text_box_1)\n",
        "  classification=stack_model.predict(actual_input)\n",
        "  print(classification[0])\n",
        "  return classification[0]\n"
      ]
    },
    {
      "cell_type": "code",
      "execution_count": null,
      "metadata": {
        "id": "fJeV1V0NCkno"
      },
      "outputs": [],
      "source": [
        "anvil.server.wait_forever()"
      ]
    },
    {
      "cell_type": "code",
      "execution_count": null,
      "metadata": {
        "id": "oO-zVdEs9Sh0"
      },
      "outputs": [],
      "source": [
        "from sklearn.pipeline import Pipeline"
      ]
    },
    {
      "cell_type": "code",
      "execution_count": null,
      "metadata": {
        "id": "bob5qVBd5cHi"
      },
      "outputs": [],
      "source": [
        "ct.get_feature_names_out()"
      ]
    },
    {
      "cell_type": "code",
      "execution_count": null,
      "metadata": {
        "id": "oyDF5v2V3XF0"
      },
      "outputs": [],
      "source": [
        "arr = np.array(['Male','No','Yes','Often','No','Yes','No','Yes','No','No','No','Somewhat difficult','Yes','Yes','Some of them','No','Maybe','Maybe','No','No']).reshape(1, -1)\n",
        "\n",
        "# pipeline = Pipeline(steps=[('ct', ct),\n",
        "#                            ('model', stack_model)])\n",
        "arr=pd.DataFrame(data=arr, index=np.arange(len(arr)), columns=['Gender','self_employed','family_history',\n",
        "'work_interfere','remote_work','tech_company','benefits','care_options','wellness_program','seek_help',\n",
        "'anonymity','leave','mental_health_consequence','phys_health_consequence',\n",
        "'coworkers','supervisor','mental_health_interview','phys_health_interview','mental_vs_physical','obs_consequence'])\n",
        "arr.shape\n",
        "actual_input=ct.transform(arr)\n",
        "print(actual_input)\n",
        "#inserting age into input\n",
        "np.insert(actual_input, 0, 31)\n",
        "classification=stack_model.predict(actual_input)\n",
        "classification[0]"
      ]
    },
    {
      "cell_type": "code",
      "execution_count": null,
      "metadata": {
        "id": "MWXXYG7i7nA_"
      },
      "outputs": [],
      "source": [
        "arr = np.array(['Male','Yes','Yes','Never','Yes','Yes','No','No','Yes','No','Yes','Somewhat easy','No','No','Some of them','Some of them','Maybe','Maybe','Don\\'t know','No']).reshape(1, -1)\n",
        "\n",
        "#pipeline = Pipeline(steps=[('ct', ct),\n",
        " #                         ('model', stack_model)])\n",
        "arr=pd.DataFrame(data=arr, index=np.arange(len(arr)), columns=['Gender','self_employed','family_history',\n",
        "'work_interfere','remote_work','tech_company','benefits','care_options','wellness_program','seek_help',\n",
        "'anonymity','leave','mental_health_consequence','phys_health_consequence',\n",
        "'coworkers','supervisor','mental_health_interview','phys_health_interview','mental_vs_physical','obs_consequence'])\n",
        "arr.shape\n",
        "actual_input=ct.transform(arr)\n",
        "print(actual_input)\n",
        "#inserting age into input\n",
        "np.insert(actual_input, 0, 36)\n",
        "classification=stack_model.predict(actual_input)\n",
        "classification[0]"
      ]
    },
    {
      "cell_type": "code",
      "execution_count": null,
      "metadata": {
        "id": "ZeoYVmzRrBB6"
      },
      "outputs": [],
      "source": []
    }
  ],
  "metadata": {
    "colab": {
      "provenance": [],
      "mount_file_id": "1Z3KfAR_xdRTDQOw-jEz5HZccg4YzK1_I",
      "authorship_tag": "ABX9TyPTC3Rx7XMxfeG/KJdHptxL",
      "include_colab_link": true
    },
    "gpuClass": "standard",
    "kernelspec": {
      "display_name": "Python 3",
      "name": "python3"
    },
    "language_info": {
      "name": "python"
    }
  },
  "nbformat": 4,
  "nbformat_minor": 0
}